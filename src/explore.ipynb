{
    "cells": [
        {
            "cell_type": "markdown",
            "metadata": {},
            "source": [
                "# Random forest: Titanic\n"
            ]
        },
        {
            "cell_type": "code",
            "execution_count": 52,
            "metadata": {},
            "outputs": [],
            "source": [
                "# Import libraries\n",
                "import pandas as pd \n",
                "import numpy as np \n",
                "import matplotlib.pyplot as plt  \n",
                "from sklearn.model_selection import train_test_split\n",
                "from sklearn import metrics\n",
                "from sklearn.model_selection import GridSearchCV\n",
                "from sklearn.pipeline import make_pipeline\n",
                "import pickle\n",
                "from sklearn.model_selection import cross_val_score\n",
                "from sklearn.tree import DecisionTreeClassifier\n",
                "from sklearn import tree\n",
                "from sklearn.ensemble import RandomForestClassifier\n",
                "from sklearn import metrics\n",
                "from sklearn.metrics import confusion_matrix\n",
                "from sklearn.metrics import ConfusionMatrixDisplay\n",
                "from sklearn.metrics import classification_report\n"
            ]
        },
        {
            "cell_type": "code",
            "execution_count": 53,
            "metadata": {},
            "outputs": [],
            "source": [
                "url='https://raw.githubusercontent.com/4GeeksAcademy/random-forest-project-tutorial/main/titanic_train.csv'\n",
                "df_raw = pd.read_csv(url)"
            ]
        },
        {
            "cell_type": "code",
            "execution_count": 54,
            "metadata": {},
            "outputs": [
                {
                    "name": "stdout",
                    "output_type": "stream",
                    "text": [
                        "<class 'pandas.core.frame.DataFrame'>\n",
                        "RangeIndex: 891 entries, 0 to 890\n",
                        "Data columns (total 12 columns):\n",
                        " #   Column       Non-Null Count  Dtype  \n",
                        "---  ------       --------------  -----  \n",
                        " 0   PassengerId  891 non-null    int64  \n",
                        " 1   Survived     891 non-null    int64  \n",
                        " 2   Pclass       891 non-null    int64  \n",
                        " 3   Name         891 non-null    object \n",
                        " 4   Sex          891 non-null    object \n",
                        " 5   Age          714 non-null    float64\n",
                        " 6   SibSp        891 non-null    int64  \n",
                        " 7   Parch        891 non-null    int64  \n",
                        " 8   Ticket       891 non-null    object \n",
                        " 9   Fare         891 non-null    float64\n",
                        " 10  Cabin        204 non-null    object \n",
                        " 11  Embarked     889 non-null    object \n",
                        "dtypes: float64(2), int64(5), object(5)\n",
                        "memory usage: 83.7+ KB\n"
                    ]
                }
            ],
            "source": [
                "df_raw.info()"
            ]
        },
        {
            "cell_type": "code",
            "execution_count": 55,
            "metadata": {},
            "outputs": [],
            "source": [
                "df = df_raw.copy()"
            ]
        },
        {
            "cell_type": "code",
            "execution_count": 56,
            "metadata": {},
            "outputs": [],
            "source": [
                "#Drop irrelevant columns \n",
                "\n",
                "drop_cols = ['PassengerId','Cabin', 'Ticket', 'Name']\n",
                "df = df.drop(drop_cols, axis = 1)"
            ]
        },
        {
            "cell_type": "code",
            "execution_count": 57,
            "metadata": {},
            "outputs": [
                {
                    "data": {
                        "text/html": [
                            "<div>\n",
                            "<style scoped>\n",
                            "    .dataframe tbody tr th:only-of-type {\n",
                            "        vertical-align: middle;\n",
                            "    }\n",
                            "\n",
                            "    .dataframe tbody tr th {\n",
                            "        vertical-align: top;\n",
                            "    }\n",
                            "\n",
                            "    .dataframe thead th {\n",
                            "        text-align: right;\n",
                            "    }\n",
                            "</style>\n",
                            "<table border=\"1\" class=\"dataframe\">\n",
                            "  <thead>\n",
                            "    <tr style=\"text-align: right;\">\n",
                            "      <th></th>\n",
                            "      <th>Survived</th>\n",
                            "      <th>Pclass</th>\n",
                            "      <th>Age</th>\n",
                            "      <th>SibSp</th>\n",
                            "      <th>Parch</th>\n",
                            "      <th>Fare</th>\n",
                            "      <th>Sex_male</th>\n",
                            "      <th>Embarked_Q</th>\n",
                            "      <th>Embarked_S</th>\n",
                            "    </tr>\n",
                            "  </thead>\n",
                            "  <tbody>\n",
                            "    <tr>\n",
                            "      <th>0</th>\n",
                            "      <td>0</td>\n",
                            "      <td>3</td>\n",
                            "      <td>22.0</td>\n",
                            "      <td>1</td>\n",
                            "      <td>0</td>\n",
                            "      <td>7.2500</td>\n",
                            "      <td>1</td>\n",
                            "      <td>0</td>\n",
                            "      <td>1</td>\n",
                            "    </tr>\n",
                            "    <tr>\n",
                            "      <th>1</th>\n",
                            "      <td>1</td>\n",
                            "      <td>1</td>\n",
                            "      <td>38.0</td>\n",
                            "      <td>1</td>\n",
                            "      <td>0</td>\n",
                            "      <td>71.2833</td>\n",
                            "      <td>0</td>\n",
                            "      <td>0</td>\n",
                            "      <td>0</td>\n",
                            "    </tr>\n",
                            "    <tr>\n",
                            "      <th>2</th>\n",
                            "      <td>1</td>\n",
                            "      <td>3</td>\n",
                            "      <td>26.0</td>\n",
                            "      <td>0</td>\n",
                            "      <td>0</td>\n",
                            "      <td>7.9250</td>\n",
                            "      <td>0</td>\n",
                            "      <td>0</td>\n",
                            "      <td>1</td>\n",
                            "    </tr>\n",
                            "    <tr>\n",
                            "      <th>3</th>\n",
                            "      <td>1</td>\n",
                            "      <td>1</td>\n",
                            "      <td>35.0</td>\n",
                            "      <td>1</td>\n",
                            "      <td>0</td>\n",
                            "      <td>53.1000</td>\n",
                            "      <td>0</td>\n",
                            "      <td>0</td>\n",
                            "      <td>1</td>\n",
                            "    </tr>\n",
                            "    <tr>\n",
                            "      <th>4</th>\n",
                            "      <td>0</td>\n",
                            "      <td>3</td>\n",
                            "      <td>35.0</td>\n",
                            "      <td>0</td>\n",
                            "      <td>0</td>\n",
                            "      <td>8.0500</td>\n",
                            "      <td>1</td>\n",
                            "      <td>0</td>\n",
                            "      <td>1</td>\n",
                            "    </tr>\n",
                            "  </tbody>\n",
                            "</table>\n",
                            "</div>"
                        ],
                        "text/plain": [
                            "   Survived  Pclass   Age  SibSp  Parch     Fare  Sex_male  Embarked_Q  \\\n",
                            "0         0       3  22.0      1      0   7.2500         1           0   \n",
                            "1         1       1  38.0      1      0  71.2833         0           0   \n",
                            "2         1       3  26.0      0      0   7.9250         0           0   \n",
                            "3         1       1  35.0      1      0  53.1000         0           0   \n",
                            "4         0       3  35.0      0      0   8.0500         1           0   \n",
                            "\n",
                            "   Embarked_S  \n",
                            "0           1  \n",
                            "1           0  \n",
                            "2           1  \n",
                            "3           1  \n",
                            "4           1  "
                        ]
                    },
                    "execution_count": 57,
                    "metadata": {},
                    "output_type": "execute_result"
                }
            ],
            "source": [
                "# Transform categorical variables, sex and embarked, to dummies\n",
                "\n",
                "df = pd.get_dummies(df, columns=['Sex', 'Embarked'], drop_first=True)\n",
                "df.head()"
            ]
        },
        {
            "cell_type": "code",
            "execution_count": 58,
            "metadata": {},
            "outputs": [
                {
                    "data": {
                        "text/html": [
                            "<div>\n",
                            "<style scoped>\n",
                            "    .dataframe tbody tr th:only-of-type {\n",
                            "        vertical-align: middle;\n",
                            "    }\n",
                            "\n",
                            "    .dataframe tbody tr th {\n",
                            "        vertical-align: top;\n",
                            "    }\n",
                            "\n",
                            "    .dataframe thead th {\n",
                            "        text-align: right;\n",
                            "    }\n",
                            "</style>\n",
                            "<table border=\"1\" class=\"dataframe\">\n",
                            "  <thead>\n",
                            "    <tr style=\"text-align: right;\">\n",
                            "      <th></th>\n",
                            "      <th>Survived</th>\n",
                            "      <th>Pclass</th>\n",
                            "      <th>Age</th>\n",
                            "      <th>SibSp</th>\n",
                            "      <th>Parch</th>\n",
                            "      <th>Fare</th>\n",
                            "      <th>Sex_male</th>\n",
                            "      <th>Embarked_Q</th>\n",
                            "      <th>Embarked_S</th>\n",
                            "    </tr>\n",
                            "  </thead>\n",
                            "  <tbody>\n",
                            "    <tr>\n",
                            "      <th>count</th>\n",
                            "      <td>891.000000</td>\n",
                            "      <td>891.000000</td>\n",
                            "      <td>714.000000</td>\n",
                            "      <td>891.000000</td>\n",
                            "      <td>891.000000</td>\n",
                            "      <td>891.000000</td>\n",
                            "      <td>891.000000</td>\n",
                            "      <td>891.000000</td>\n",
                            "      <td>891.000000</td>\n",
                            "    </tr>\n",
                            "    <tr>\n",
                            "      <th>mean</th>\n",
                            "      <td>0.383838</td>\n",
                            "      <td>2.308642</td>\n",
                            "      <td>29.699118</td>\n",
                            "      <td>0.523008</td>\n",
                            "      <td>0.381594</td>\n",
                            "      <td>32.204208</td>\n",
                            "      <td>0.647587</td>\n",
                            "      <td>0.086420</td>\n",
                            "      <td>0.722783</td>\n",
                            "    </tr>\n",
                            "    <tr>\n",
                            "      <th>std</th>\n",
                            "      <td>0.486592</td>\n",
                            "      <td>0.836071</td>\n",
                            "      <td>14.526497</td>\n",
                            "      <td>1.102743</td>\n",
                            "      <td>0.806057</td>\n",
                            "      <td>49.693429</td>\n",
                            "      <td>0.477990</td>\n",
                            "      <td>0.281141</td>\n",
                            "      <td>0.447876</td>\n",
                            "    </tr>\n",
                            "    <tr>\n",
                            "      <th>min</th>\n",
                            "      <td>0.000000</td>\n",
                            "      <td>1.000000</td>\n",
                            "      <td>0.420000</td>\n",
                            "      <td>0.000000</td>\n",
                            "      <td>0.000000</td>\n",
                            "      <td>0.000000</td>\n",
                            "      <td>0.000000</td>\n",
                            "      <td>0.000000</td>\n",
                            "      <td>0.000000</td>\n",
                            "    </tr>\n",
                            "    <tr>\n",
                            "      <th>25%</th>\n",
                            "      <td>0.000000</td>\n",
                            "      <td>2.000000</td>\n",
                            "      <td>20.125000</td>\n",
                            "      <td>0.000000</td>\n",
                            "      <td>0.000000</td>\n",
                            "      <td>7.910400</td>\n",
                            "      <td>0.000000</td>\n",
                            "      <td>0.000000</td>\n",
                            "      <td>0.000000</td>\n",
                            "    </tr>\n",
                            "    <tr>\n",
                            "      <th>50%</th>\n",
                            "      <td>0.000000</td>\n",
                            "      <td>3.000000</td>\n",
                            "      <td>28.000000</td>\n",
                            "      <td>0.000000</td>\n",
                            "      <td>0.000000</td>\n",
                            "      <td>14.454200</td>\n",
                            "      <td>1.000000</td>\n",
                            "      <td>0.000000</td>\n",
                            "      <td>1.000000</td>\n",
                            "    </tr>\n",
                            "    <tr>\n",
                            "      <th>75%</th>\n",
                            "      <td>1.000000</td>\n",
                            "      <td>3.000000</td>\n",
                            "      <td>38.000000</td>\n",
                            "      <td>1.000000</td>\n",
                            "      <td>0.000000</td>\n",
                            "      <td>31.000000</td>\n",
                            "      <td>1.000000</td>\n",
                            "      <td>0.000000</td>\n",
                            "      <td>1.000000</td>\n",
                            "    </tr>\n",
                            "    <tr>\n",
                            "      <th>max</th>\n",
                            "      <td>1.000000</td>\n",
                            "      <td>3.000000</td>\n",
                            "      <td>80.000000</td>\n",
                            "      <td>8.000000</td>\n",
                            "      <td>6.000000</td>\n",
                            "      <td>512.329200</td>\n",
                            "      <td>1.000000</td>\n",
                            "      <td>1.000000</td>\n",
                            "      <td>1.000000</td>\n",
                            "    </tr>\n",
                            "  </tbody>\n",
                            "</table>\n",
                            "</div>"
                        ],
                        "text/plain": [
                            "         Survived      Pclass         Age       SibSp       Parch        Fare  \\\n",
                            "count  891.000000  891.000000  714.000000  891.000000  891.000000  891.000000   \n",
                            "mean     0.383838    2.308642   29.699118    0.523008    0.381594   32.204208   \n",
                            "std      0.486592    0.836071   14.526497    1.102743    0.806057   49.693429   \n",
                            "min      0.000000    1.000000    0.420000    0.000000    0.000000    0.000000   \n",
                            "25%      0.000000    2.000000   20.125000    0.000000    0.000000    7.910400   \n",
                            "50%      0.000000    3.000000   28.000000    0.000000    0.000000   14.454200   \n",
                            "75%      1.000000    3.000000   38.000000    1.000000    0.000000   31.000000   \n",
                            "max      1.000000    3.000000   80.000000    8.000000    6.000000  512.329200   \n",
                            "\n",
                            "         Sex_male  Embarked_Q  Embarked_S  \n",
                            "count  891.000000  891.000000  891.000000  \n",
                            "mean     0.647587    0.086420    0.722783  \n",
                            "std      0.477990    0.281141    0.447876  \n",
                            "min      0.000000    0.000000    0.000000  \n",
                            "25%      0.000000    0.000000    0.000000  \n",
                            "50%      1.000000    0.000000    1.000000  \n",
                            "75%      1.000000    0.000000    1.000000  \n",
                            "max      1.000000    1.000000    1.000000  "
                        ]
                    },
                    "execution_count": 58,
                    "metadata": {},
                    "output_type": "execute_result"
                }
            ],
            "source": [
                "df.describe()"
            ]
        },
        {
            "cell_type": "code",
            "execution_count": 59,
            "metadata": {},
            "outputs": [
                {
                    "data": {
                        "text/plain": [
                            "Survived        0\n",
                            "Pclass          0\n",
                            "Age           177\n",
                            "SibSp           0\n",
                            "Parch           0\n",
                            "Fare            0\n",
                            "Sex_male        0\n",
                            "Embarked_Q      0\n",
                            "Embarked_S      0\n",
                            "dtype: int64"
                        ]
                    },
                    "execution_count": 59,
                    "metadata": {},
                    "output_type": "execute_result"
                }
            ],
            "source": [
                "# Age has null values\n",
                "\n",
                "df.isnull().sum()"
            ]
        },
        {
            "cell_type": "code",
            "execution_count": 60,
            "metadata": {},
            "outputs": [
                {
                    "data": {
                        "text/plain": [
                            "Age           0.198653\n",
                            "Survived      0.000000\n",
                            "Pclass        0.000000\n",
                            "SibSp         0.000000\n",
                            "Parch         0.000000\n",
                            "Fare          0.000000\n",
                            "Sex_male      0.000000\n",
                            "Embarked_Q    0.000000\n",
                            "Embarked_S    0.000000\n",
                            "dtype: float64"
                        ]
                    },
                    "execution_count": 60,
                    "metadata": {},
                    "output_type": "execute_result"
                }
            ],
            "source": [
                "# percentage of missing values in each column\n",
                "\n",
                "df[num_vars].isnull().sum().sort_values(ascending=False)/len(df)"
            ]
        },
        {
            "cell_type": "code",
            "execution_count": 61,
            "metadata": {},
            "outputs": [],
            "source": [
                "## Fill missing AGE with Median\n",
                "df['Age'] = df['Age'].fillna(df['Age'].median())"
            ]
        },
        {
            "cell_type": "code",
            "execution_count": 62,
            "metadata": {},
            "outputs": [],
            "source": [
                "# Train, test datasets\n",
                "\n",
                "X = df.drop('Survived', axis=1)\n",
                "\n",
                "y= df['Survived']\n",
                "\n",
                "X_train, X_test, y_train, y_test = train_test_split(X, y, random_state=123)"
            ]
        },
        {
            "cell_type": "code",
            "execution_count": 63,
            "metadata": {},
            "outputs": [],
            "source": [
                "model1 = RandomForestClassifier()\n",
                "model1.fit(X_train, y_train)\n",
                "\n",
                "y_pred = model1.predict(X_test)"
            ]
        },
        {
            "cell_type": "code",
            "execution_count": 64,
            "metadata": {},
            "outputs": [
                {
                    "name": "stdout",
                    "output_type": "stream",
                    "text": [
                        "Accuracy: 0.820627802690583\n"
                    ]
                }
            ],
            "source": [
                "print('Accuracy:',model1.score(X_test, y_test))"
            ]
        },
        {
            "cell_type": "code",
            "execution_count": 65,
            "metadata": {},
            "outputs": [
                {
                    "data": {
                        "image/png": "[encoded data removed]",
                        "text/plain": [
                            "<Figure size 432x288 with 2 Axes>"
                        ]
                    },
                    "metadata": {
                        "needs_background": "light"
                    },
                    "output_type": "display_data"
                }
            ],
            "source": [
                "cm = confusion_matrix(y_test, y_pred, labels=model1.classes_)\n",
                "disp = ConfusionMatrixDisplay(confusion_matrix=cm,\n",
                "display_labels=model1.classes_)\n",
                "disp.plot()\n",
                "\n",
                "plt.show()"
            ]
        },
        {
            "cell_type": "code",
            "execution_count": 66,
            "metadata": {},
            "outputs": [
                {
                    "name": "stdout",
                    "output_type": "stream",
                    "text": [
                        "              precision    recall  f1-score   support\n",
                        "\n",
                        "           0       0.85      0.86      0.86       139\n",
                        "           1       0.77      0.75      0.76        84\n",
                        "\n",
                        "    accuracy                           0.82       223\n",
                        "   macro avg       0.81      0.81      0.81       223\n",
                        "weighted avg       0.82      0.82      0.82       223\n",
                        "\n"
                    ]
                }
            ],
            "source": [
                "print(classification_report(y_test,y_pred))\n",
                "\n",
                "# 86% of the true non-survivers were predicted correctly (recall of class 0)\n",
                "# 85% of the 0 predictions were correct\n",
                "\n",
                "# If i had predicted that all the passengers died, the accuracy would have been 0.62 (139/(139+84))"
            ]
        },
        {
            "cell_type": "markdown",
            "metadata": {},
            "source": [
                "Optimize model hyperparameters"
            ]
        },
        {
            "cell_type": "code",
            "execution_count": 67,
            "metadata": {},
            "outputs": [
                {
                    "name": "stdout",
                    "output_type": "stream",
                    "text": [
                        "[{'max_depth': [8, 12, 16], 'min_samples_split': [12, 16, 20], 'criterion': ['gini', 'entropy']}]\n"
                    ]
                }
            ],
            "source": [
                "param_grid = [{'max_depth': [8, 12, 16], \n",
                "         'min_samples_split': [12, 16, 20], \n",
                "         'criterion': ['gini', 'entropy']}]\n",
                "\n",
                "print(param_grid)"
            ]
        },
        {
            "cell_type": "code",
            "execution_count": 68,
            "metadata": {},
            "outputs": [
                {
                    "name": "stdout",
                    "output_type": "stream",
                    "text": [
                        "Fitting 10 folds for each of 18 candidates, totalling 180 fits\n",
                        "[CV] END ..criterion=gini, max_depth=8, min_samples_split=16; total time=   0.4s\n",
                        "[CV] END ..criterion=gini, max_depth=8, min_samples_split=12; total time=   0.4s\n",
                        "[CV] END ..criterion=gini, max_depth=8, min_samples_split=12; total time=   0.4s\n",
                        "[CV] END ..criterion=gini, max_depth=8, min_samples_split=12; total time=   0.4s\n",
                        "[CV] END ..criterion=gini, max_depth=8, min_samples_split=12; total time=   0.4s\n",
                        "[CV] END ..criterion=gini, max_depth=8, min_samples_split=12; total time=   0.5s\n",
                        "[CV] END ..criterion=gini, max_depth=8, min_samples_split=16; total time=   0.5s\n",
                        "[CV] END ..criterion=gini, max_depth=8, min_samples_split=12; total time=   0.5s\n",
                        "[CV] END ..criterion=gini, max_depth=8, min_samples_split=16; total time=   0.5s\n",
                        "[CV] END ..criterion=gini, max_depth=8, min_samples_split=16; total time=   0.5s\n",
                        "[CV] END ..criterion=gini, max_depth=8, min_samples_split=12; total time=   0.5s\n",
                        "[CV] END ..criterion=gini, max_depth=8, min_samples_split=12; total time=   0.5s\n",
                        "[CV] END ..criterion=gini, max_depth=8, min_samples_split=12; total time=   0.5s\n",
                        "[CV] END ..criterion=gini, max_depth=8, min_samples_split=12; total time=   0.5s\n",
                        "[CV] END ..criterion=gini, max_depth=8, min_samples_split=16; total time=   0.4s\n",
                        "[CV] END ..criterion=gini, max_depth=8, min_samples_split=16; total time=   0.4s\n",
                        "[CV] END ..criterion=gini, max_depth=8, min_samples_split=16; total time=   0.5s\n",
                        "[CV] END ..criterion=gini, max_depth=8, min_samples_split=20; total time=   0.4s\n",
                        "[CV] END ..criterion=gini, max_depth=8, min_samples_split=16; total time=   0.6s\n",
                        "[CV] END ..criterion=gini, max_depth=8, min_samples_split=20; total time=   0.5s\n",
                        "[CV] END ..criterion=gini, max_depth=8, min_samples_split=20; total time=   0.5s\n",
                        "[CV] END ..criterion=gini, max_depth=8, min_samples_split=20; total time=   0.5s\n",
                        "[CV] END ..criterion=gini, max_depth=8, min_samples_split=20; total time=   0.5s[CV] END ..criterion=gini, max_depth=8, min_samples_split=20; total time=   0.5s\n",
                        "\n",
                        "[CV] END ..criterion=gini, max_depth=8, min_samples_split=20; total time=   0.5s\n",
                        "[CV] END ..criterion=gini, max_depth=8, min_samples_split=20; total time=   0.5s\n",
                        "[CV] END ..criterion=gini, max_depth=8, min_samples_split=16; total time=   1.0s\n",
                        "[CV] END ..criterion=gini, max_depth=8, min_samples_split=16; total time=   1.0s\n",
                        "[CV] END ..criterion=gini, max_depth=8, min_samples_split=20; total time=   0.6s\n",
                        "[CV] END ..criterion=gini, max_depth=8, min_samples_split=20; total time=   0.6s\n",
                        "[CV] END .criterion=gini, max_depth=12, min_samples_split=12; total time=   0.5s\n",
                        "[CV] END .criterion=gini, max_depth=12, min_samples_split=12; total time=   0.4s\n",
                        "[CV] END .criterion=gini, max_depth=12, min_samples_split=12; total time=   0.4s\n",
                        "[CV] END .criterion=gini, max_depth=12, min_samples_split=12; total time=   0.5s\n",
                        "[CV] END .criterion=gini, max_depth=12, min_samples_split=12; total time=   0.5s\n",
                        "[CV] END .criterion=gini, max_depth=12, min_samples_split=12; total time=   0.5s\n",
                        "[CV] END .criterion=gini, max_depth=12, min_samples_split=16; total time=   0.5s\n",
                        "[CV] END .criterion=gini, max_depth=12, min_samples_split=12; total time=   0.5s\n",
                        "[CV] END .criterion=gini, max_depth=12, min_samples_split=12; total time=   0.5s\n",
                        "[CV] END .criterion=gini, max_depth=12, min_samples_split=16; total time=   0.5s\n",
                        "[CV] END .criterion=gini, max_depth=12, min_samples_split=16; total time=   0.5s\n",
                        "[CV] END .criterion=gini, max_depth=12, min_samples_split=16; total time=   0.5s\n",
                        "[CV] END .criterion=gini, max_depth=12, min_samples_split=16; total time=   0.5s\n",
                        "[CV] END .criterion=gini, max_depth=12, min_samples_split=12; total time=   0.7s\n",
                        "[CV] END .criterion=gini, max_depth=12, min_samples_split=16; total time=   0.4s\n",
                        "[CV] END .criterion=gini, max_depth=12, min_samples_split=16; total time=   0.5s\n",
                        "[CV] END .criterion=gini, max_depth=12, min_samples_split=12; total time=   0.9s\n",
                        "[CV] END .criterion=gini, max_depth=12, min_samples_split=16; total time=   0.9s\n",
                        "[CV] END .criterion=gini, max_depth=12, min_samples_split=16; total time=   0.5s\n",
                        "[CV] END .criterion=gini, max_depth=12, min_samples_split=20; total time=   0.4s\n",
                        "[CV] END .criterion=gini, max_depth=12, min_samples_split=16; total time=   0.5s\n",
                        "[CV] END .criterion=gini, max_depth=12, min_samples_split=20; total time=   0.4s\n",
                        "[CV] END .criterion=gini, max_depth=12, min_samples_split=20; total time=   0.5s\n",
                        "[CV] END .criterion=gini, max_depth=12, min_samples_split=20; total time=   0.6s\n",
                        "[CV] END .criterion=gini, max_depth=12, min_samples_split=20; total time=   0.5s\n",
                        "[CV] END .criterion=gini, max_depth=12, min_samples_split=20; total time=   0.5s\n",
                        "[CV] END .criterion=gini, max_depth=12, min_samples_split=20; total time=   0.4s\n",
                        "[CV] END .criterion=gini, max_depth=12, min_samples_split=20; total time=   0.6s\n",
                        "[CV] END .criterion=gini, max_depth=16, min_samples_split=12; total time=   0.5s\n",
                        "[CV] END .criterion=gini, max_depth=16, min_samples_split=12; total time=   0.5s\n",
                        "[CV] END .criterion=gini, max_depth=16, min_samples_split=12; total time=   0.5s\n",
                        "[CV] END .criterion=gini, max_depth=16, min_samples_split=12; total time=   0.6s\n",
                        "[CV] END .criterion=gini, max_depth=12, min_samples_split=20; total time=   1.0s\n",
                        "[CV] END .criterion=gini, max_depth=16, min_samples_split=12; total time=   0.5s\n",
                        "[CV] END .criterion=gini, max_depth=16, min_samples_split=12; total time=   0.5s\n",
                        "[CV] END .criterion=gini, max_depth=12, min_samples_split=20; total time=   1.0s\n",
                        "[CV] END .criterion=gini, max_depth=16, min_samples_split=12; total time=   0.6s\n",
                        "[CV] END .criterion=gini, max_depth=16, min_samples_split=12; total time=   0.6s\n",
                        "[CV] END .criterion=gini, max_depth=16, min_samples_split=12; total time=   0.5s\n",
                        "[CV] END .criterion=gini, max_depth=16, min_samples_split=16; total time=   0.5s\n",
                        "[CV] END .criterion=gini, max_depth=16, min_samples_split=16; total time=   0.5s\n",
                        "[CV] END .criterion=gini, max_depth=16, min_samples_split=12; total time=   0.5s\n",
                        "[CV] END .criterion=gini, max_depth=16, min_samples_split=16; total time=   0.6s\n",
                        "[CV] END .criterion=gini, max_depth=16, min_samples_split=16; total time=   0.5s\n",
                        "[CV] END .criterion=gini, max_depth=16, min_samples_split=16; total time=   0.6s\n",
                        "[CV] END .criterion=gini, max_depth=16, min_samples_split=16; total time=   0.5s\n",
                        "[CV] END .criterion=gini, max_depth=16, min_samples_split=16; total time=   0.5s\n",
                        "[CV] END .criterion=gini, max_depth=16, min_samples_split=16; total time=   0.5s\n",
                        "[CV] END .criterion=gini, max_depth=16, min_samples_split=20; total time=   0.4s\n",
                        "[CV] END .criterion=gini, max_depth=16, min_samples_split=20; total time=   0.5s\n",
                        "[CV] END .criterion=gini, max_depth=16, min_samples_split=20; total time=   0.5s\n",
                        "[CV] END .criterion=gini, max_depth=16, min_samples_split=20; total time=   0.5s\n",
                        "[CV] END .criterion=gini, max_depth=16, min_samples_split=20; total time=   0.5s\n",
                        "[CV] END .criterion=gini, max_depth=16, min_samples_split=20; total time=   0.6s\n",
                        "[CV] END .criterion=gini, max_depth=16, min_samples_split=20; total time=   0.6s\n",
                        "[CV] END .criterion=gini, max_depth=16, min_samples_split=20; total time=   0.6s\n",
                        "[CV] END .criterion=gini, max_depth=16, min_samples_split=20; total time=   0.6s\n",
                        "[CV] END criterion=entropy, max_depth=8, min_samples_split=12; total time=   0.5s\n",
                        "[CV] END criterion=entropy, max_depth=8, min_samples_split=12; total time=   0.5s\n",
                        "[CV] END criterion=entropy, max_depth=8, min_samples_split=12; total time=   0.5s\n",
                        "[CV] END criterion=entropy, max_depth=8, min_samples_split=12; total time=   0.5s\n",
                        "[CV] END criterion=entropy, max_depth=8, min_samples_split=12; total time=   0.5s\n",
                        "[CV] END .criterion=gini, max_depth=16, min_samples_split=20; total time=   1.0s\n",
                        "[CV] END criterion=entropy, max_depth=8, min_samples_split=12; total time=   0.5s\n",
                        "[CV] END .criterion=gini, max_depth=16, min_samples_split=16; total time=   1.1s\n",
                        "[CV] END .criterion=gini, max_depth=16, min_samples_split=16; total time=   1.0s\n",
                        "[CV] END criterion=entropy, max_depth=8, min_samples_split=12; total time=   0.4s\n",
                        "[CV] END criterion=entropy, max_depth=8, min_samples_split=12; total time=   0.6s\n",
                        "[CV] END criterion=entropy, max_depth=8, min_samples_split=12; total time=   0.5s\n",
                        "[CV] END criterion=entropy, max_depth=8, min_samples_split=16; total time=   0.5s\n",
                        "[CV] END criterion=entropy, max_depth=8, min_samples_split=12; total time=   0.7s\n",
                        "[CV] END criterion=entropy, max_depth=8, min_samples_split=16; total time=   0.5s\n",
                        "[CV] END criterion=entropy, max_depth=8, min_samples_split=16; total time=   0.5s\n",
                        "[CV] END criterion=entropy, max_depth=8, min_samples_split=16; total time=   0.5s\n",
                        "[CV] END criterion=entropy, max_depth=8, min_samples_split=16; total time=   0.4s\n",
                        "[CV] END criterion=entropy, max_depth=8, min_samples_split=16; total time=   0.4s\n",
                        "[CV] END criterion=entropy, max_depth=8, min_samples_split=16; total time=   0.6s\n",
                        "[CV] END criterion=entropy, max_depth=8, min_samples_split=16; total time=   0.5s\n",
                        "[CV] END criterion=entropy, max_depth=8, min_samples_split=16; total time=   0.4s\n",
                        "[CV] END criterion=entropy, max_depth=8, min_samples_split=16; total time=   0.5s\n",
                        "[CV] END criterion=entropy, max_depth=8, min_samples_split=20; total time=   0.5s\n",
                        "[CV] END criterion=entropy, max_depth=8, min_samples_split=20; total time=   0.5s\n",
                        "[CV] END criterion=entropy, max_depth=8, min_samples_split=20; total time=   0.5s\n",
                        "[CV] END criterion=entropy, max_depth=8, min_samples_split=20; total time=   0.4s\n",
                        "[CV] END criterion=entropy, max_depth=8, min_samples_split=20; total time=   0.5s\n",
                        "[CV] END criterion=entropy, max_depth=8, min_samples_split=20; total time=   0.6s\n",
                        "[CV] END criterion=entropy, max_depth=8, min_samples_split=20; total time=   0.7s\n",
                        "[CV] END criterion=entropy, max_depth=8, min_samples_split=20; total time=   0.8s\n",
                        "[CV] END criterion=entropy, max_depth=12, min_samples_split=12; total time=   0.5s\n",
                        "[CV] END criterion=entropy, max_depth=12, min_samples_split=12; total time=   0.5s\n",
                        "[CV] END criterion=entropy, max_depth=12, min_samples_split=12; total time=   0.6s\n",
                        "[CV] END criterion=entropy, max_depth=12, min_samples_split=12; total time=   0.5s\n",
                        "[CV] END criterion=entropy, max_depth=12, min_samples_split=12; total time=   0.6s[CV] END criterion=entropy, max_depth=12, min_samples_split=12; total time=   0.5s\n",
                        "\n",
                        "[CV] END criterion=entropy, max_depth=12, min_samples_split=12; total time=   0.4s\n",
                        "[CV] END criterion=entropy, max_depth=12, min_samples_split=12; total time=   0.5s\n",
                        "[CV] END criterion=entropy, max_depth=8, min_samples_split=20; total time=   1.0s\n",
                        "[CV] END criterion=entropy, max_depth=12, min_samples_split=16; total time=   0.5s\n",
                        "[CV] END criterion=entropy, max_depth=12, min_samples_split=16; total time=   0.5s\n",
                        "[CV] END criterion=entropy, max_depth=8, min_samples_split=20; total time=   1.0s\n",
                        "[CV] END criterion=entropy, max_depth=12, min_samples_split=12; total time=   0.6s\n",
                        "[CV] END criterion=entropy, max_depth=12, min_samples_split=16; total time=   0.5s\n",
                        "[CV] END criterion=entropy, max_depth=12, min_samples_split=12; total time=   0.7s\n",
                        "[CV] END criterion=entropy, max_depth=12, min_samples_split=16; total time=   0.5s\n",
                        "[CV] END criterion=entropy, max_depth=12, min_samples_split=16; total time=   0.6s\n",
                        "[CV] END criterion=entropy, max_depth=12, min_samples_split=16; total time=   0.5s\n",
                        "[CV] END criterion=entropy, max_depth=12, min_samples_split=16; total time=   0.6s\n",
                        "[CV] END criterion=entropy, max_depth=12, min_samples_split=20; total time=   0.5s\n",
                        "[CV] END criterion=entropy, max_depth=12, min_samples_split=16; total time=   0.5s\n",
                        "[CV] END criterion=entropy, max_depth=12, min_samples_split=16; total time=   0.6s\n",
                        "[CV] END criterion=entropy, max_depth=12, min_samples_split=20; total time=   0.5s\n",
                        "[CV] END criterion=entropy, max_depth=12, min_samples_split=16; total time=   0.6s\n",
                        "[CV] END criterion=entropy, max_depth=12, min_samples_split=20; total time=   0.5s\n",
                        "[CV] END criterion=entropy, max_depth=12, min_samples_split=20; total time=   0.5s\n",
                        "[CV] END criterion=entropy, max_depth=12, min_samples_split=20; total time=   0.5s\n",
                        "[CV] END criterion=entropy, max_depth=12, min_samples_split=20; total time=   0.5s\n",
                        "[CV] END criterion=entropy, max_depth=12, min_samples_split=20; total time=   0.6s\n",
                        "[CV] END criterion=entropy, max_depth=12, min_samples_split=20; total time=   0.6s\n",
                        "[CV] END criterion=entropy, max_depth=16, min_samples_split=12; total time=   0.5s\n",
                        "[CV] END criterion=entropy, max_depth=16, min_samples_split=12; total time=   0.5s\n",
                        "[CV] END criterion=entropy, max_depth=16, min_samples_split=12; total time=   0.5s\n",
                        "[CV] END criterion=entropy, max_depth=16, min_samples_split=12; total time=   0.5s\n",
                        "[CV] END criterion=entropy, max_depth=16, min_samples_split=12; total time=   0.5s\n",
                        "[CV] END criterion=entropy, max_depth=16, min_samples_split=12; total time=   0.6s\n",
                        "[CV] END criterion=entropy, max_depth=16, min_samples_split=12; total time=   0.5s\n",
                        "[CV] END criterion=entropy, max_depth=16, min_samples_split=12; total time=   0.6s\n",
                        "[CV] END criterion=entropy, max_depth=12, min_samples_split=20; total time=   1.1s\n",
                        "[CV] END criterion=entropy, max_depth=12, min_samples_split=20; total time=   1.1s\n",
                        "[CV] END criterion=entropy, max_depth=16, min_samples_split=12; total time=   0.5s\n",
                        "[CV] END criterion=entropy, max_depth=16, min_samples_split=16; total time=   0.5s\n",
                        "[CV] END criterion=entropy, max_depth=16, min_samples_split=16; total time=   0.5s\n",
                        "[CV] END criterion=entropy, max_depth=16, min_samples_split=16; total time=   0.5s\n",
                        "[CV] END criterion=entropy, max_depth=16, min_samples_split=16; total time=   0.5s\n",
                        "[CV] END criterion=entropy, max_depth=16, min_samples_split=16; total time=   0.5s\n",
                        "[CV] END criterion=entropy, max_depth=16, min_samples_split=16; total time=   0.5s\n",
                        "[CV] END criterion=entropy, max_depth=16, min_samples_split=16; total time=   0.5s[CV] END criterion=entropy, max_depth=16, min_samples_split=12; total time=   0.7s\n",
                        "\n",
                        "[CV] END criterion=entropy, max_depth=16, min_samples_split=16; total time=   0.5s\n",
                        "[CV] END criterion=entropy, max_depth=16, min_samples_split=20; total time=   0.5s\n",
                        "[CV] END criterion=entropy, max_depth=16, min_samples_split=16; total time=   0.5s\n",
                        "[CV] END criterion=entropy, max_depth=16, min_samples_split=16; total time=   0.6s\n",
                        "[CV] END criterion=entropy, max_depth=16, min_samples_split=20; total time=   0.5s\n",
                        "[CV] END criterion=entropy, max_depth=16, min_samples_split=20; total time=   0.4s\n",
                        "[CV] END criterion=entropy, max_depth=16, min_samples_split=20; total time=   0.4s\n",
                        "[CV] END criterion=entropy, max_depth=16, min_samples_split=20; total time=   0.4s\n",
                        "[CV] END criterion=entropy, max_depth=16, min_samples_split=20; total time=   0.4s\n",
                        "[CV] END criterion=entropy, max_depth=16, min_samples_split=20; total time=   0.4s\n",
                        "[CV] END criterion=entropy, max_depth=16, min_samples_split=20; total time=   0.3s\n",
                        "[CV] END criterion=entropy, max_depth=16, min_samples_split=20; total time=   0.3s\n",
                        "[CV] END criterion=entropy, max_depth=16, min_samples_split=20; total time=   0.4s\n"
                    ]
                },
                {
                    "data": {
                        "text/html": [
                            "<style>#sk-container-id-3 {color: black;background-color: white;}#sk-container-id-3 pre{padding: 0;}#sk-container-id-3 div.sk-toggleable {background-color: white;}#sk-container-id-3 label.sk-toggleable__label {cursor: pointer;display: block;width: 100%;margin-bottom: 0;padding: 0.3em;box-sizing: border-box;text-align: center;}#sk-container-id-3 label.sk-toggleable__label-arrow:before {content: \"▸\";float: left;margin-right: 0.25em;color: #696969;}#sk-container-id-3 label.sk-toggleable__label-arrow:hover:before {color: black;}#sk-container-id-3 div.sk-estimator:hover label.sk-toggleable__label-arrow:before {color: black;}#sk-container-id-3 div.sk-toggleable__content {max-height: 0;max-width: 0;overflow: hidden;text-align: left;background-color: #f0f8ff;}#sk-container-id-3 div.sk-toggleable__content pre {margin: 0.2em;color: black;border-radius: 0.25em;background-color: #f0f8ff;}#sk-container-id-3 input.sk-toggleable__control:checked~div.sk-toggleable__content {max-height: 200px;max-width: 100%;overflow: auto;}#sk-container-id-3 input.sk-toggleable__control:checked~label.sk-toggleable__label-arrow:before {content: \"▾\";}#sk-container-id-3 div.sk-estimator input.sk-toggleable__control:checked~label.sk-toggleable__label {background-color: #d4ebff;}#sk-container-id-3 div.sk-label input.sk-toggleable__control:checked~label.sk-toggleable__label {background-color: #d4ebff;}#sk-container-id-3 input.sk-hidden--visually {border: 0;clip: rect(1px 1px 1px 1px);clip: rect(1px, 1px, 1px, 1px);height: 1px;margin: -1px;overflow: hidden;padding: 0;position: absolute;width: 1px;}#sk-container-id-3 div.sk-estimator {font-family: monospace;background-color: #f0f8ff;border: 1px dotted black;border-radius: 0.25em;box-sizing: border-box;margin-bottom: 0.5em;}#sk-container-id-3 div.sk-estimator:hover {background-color: #d4ebff;}#sk-container-id-3 div.sk-parallel-item::after {content: \"\";width: 100%;border-bottom: 1px solid gray;flex-grow: 1;}#sk-container-id-3 div.sk-label:hover label.sk-toggleable__label {background-color: #d4ebff;}#sk-container-id-3 div.sk-serial::before {content: \"\";position: absolute;border-left: 1px solid gray;box-sizing: border-box;top: 0;bottom: 0;left: 50%;z-index: 0;}#sk-container-id-3 div.sk-serial {display: flex;flex-direction: column;align-items: center;background-color: white;padding-right: 0.2em;padding-left: 0.2em;position: relative;}#sk-container-id-3 div.sk-item {position: relative;z-index: 1;}#sk-container-id-3 div.sk-parallel {display: flex;align-items: stretch;justify-content: center;background-color: white;position: relative;}#sk-container-id-3 div.sk-item::before, #sk-container-id-3 div.sk-parallel-item::before {content: \"\";position: absolute;border-left: 1px solid gray;box-sizing: border-box;top: 0;bottom: 0;left: 50%;z-index: -1;}#sk-container-id-3 div.sk-parallel-item {display: flex;flex-direction: column;z-index: 1;position: relative;background-color: white;}#sk-container-id-3 div.sk-parallel-item:first-child::after {align-self: flex-end;width: 50%;}#sk-container-id-3 div.sk-parallel-item:last-child::after {align-self: flex-start;width: 50%;}#sk-container-id-3 div.sk-parallel-item:only-child::after {width: 0;}#sk-container-id-3 div.sk-dashed-wrapped {border: 1px dashed gray;margin: 0 0.4em 0.5em 0.4em;box-sizing: border-box;padding-bottom: 0.4em;background-color: white;}#sk-container-id-3 div.sk-label label {font-family: monospace;font-weight: bold;display: inline-block;line-height: 1.2em;}#sk-container-id-3 div.sk-label-container {text-align: center;}#sk-container-id-3 div.sk-container {/* jupyter's `normalize.less` sets `[hidden] { display: none; }` but bootstrap.min.css set `[hidden] { display: none !important; }` so we also need the `!important` here to be able to override the default hidden behavior on the sphinx rendered scikit-learn.org. See: https://github.com/scikit-learn/scikit-learn/issues/21755 */display: inline-block !important;position: relative;}#sk-container-id-3 div.sk-text-repr-fallback {display: none;}</style><div id=\"sk-container-id-3\" class=\"sk-top-container\"><div class=\"sk-text-repr-fallback\"><pre>GridSearchCV(cv=10, estimator=RandomForestClassifier(), n_jobs=-1,\n",
                            "             param_grid=[{&#x27;criterion&#x27;: [&#x27;gini&#x27;, &#x27;entropy&#x27;],\n",
                            "                          &#x27;max_depth&#x27;: [8, 12, 16],\n",
                            "                          &#x27;min_samples_split&#x27;: [12, 16, 20]}],\n",
                            "             verbose=2)</pre><b>In a Jupyter environment, please rerun this cell to show the HTML representation or trust the notebook. <br />On GitHub, the HTML representation is unable to render, please try loading this page with nbviewer.org.</b></div><div class=\"sk-container\" hidden><div class=\"sk-item sk-dashed-wrapped\"><div class=\"sk-label-container\"><div class=\"sk-label sk-toggleable\"><input class=\"sk-toggleable__control sk-hidden--visually\" id=\"sk-estimator-id-7\" type=\"checkbox\" ><label for=\"sk-estimator-id-7\" class=\"sk-toggleable__label sk-toggleable__label-arrow\">GridSearchCV</label><div class=\"sk-toggleable__content\"><pre>GridSearchCV(cv=10, estimator=RandomForestClassifier(), n_jobs=-1,\n",
                            "             param_grid=[{&#x27;criterion&#x27;: [&#x27;gini&#x27;, &#x27;entropy&#x27;],\n",
                            "                          &#x27;max_depth&#x27;: [8, 12, 16],\n",
                            "                          &#x27;min_samples_split&#x27;: [12, 16, 20]}],\n",
                            "             verbose=2)</pre></div></div></div><div class=\"sk-parallel\"><div class=\"sk-parallel-item\"><div class=\"sk-item\"><div class=\"sk-label-container\"><div class=\"sk-label sk-toggleable\"><input class=\"sk-toggleable__control sk-hidden--visually\" id=\"sk-estimator-id-8\" type=\"checkbox\" ><label for=\"sk-estimator-id-8\" class=\"sk-toggleable__label sk-toggleable__label-arrow\">estimator: RandomForestClassifier</label><div class=\"sk-toggleable__content\"><pre>RandomForestClassifier()</pre></div></div></div><div class=\"sk-serial\"><div class=\"sk-item\"><div class=\"sk-estimator sk-toggleable\"><input class=\"sk-toggleable__control sk-hidden--visually\" id=\"sk-estimator-id-9\" type=\"checkbox\" ><label for=\"sk-estimator-id-9\" class=\"sk-toggleable__label sk-toggleable__label-arrow\">RandomForestClassifier</label><div class=\"sk-toggleable__content\"><pre>RandomForestClassifier()</pre></div></div></div></div></div></div></div></div></div></div>"
                        ],
                        "text/plain": [
                            "GridSearchCV(cv=10, estimator=RandomForestClassifier(), n_jobs=-1,\n",
                            "             param_grid=[{'criterion': ['gini', 'entropy'],\n",
                            "                          'max_depth': [8, 12, 16],\n",
                            "                          'min_samples_split': [12, 16, 20]}],\n",
                            "             verbose=2)"
                        ]
                    },
                    "execution_count": 68,
                    "metadata": {},
                    "output_type": "execute_result"
                }
            ],
            "source": [
                "rf=RandomForestClassifier()\n",
                "grid=GridSearchCV(estimator=rf,param_grid=param_grid,cv=10,n_jobs=-1,verbose=2)\n",
                "grid.fit(X_train,y_train)"
            ]
        },
        {
            "cell_type": "code",
            "execution_count": 69,
            "metadata": {},
            "outputs": [
                {
                    "data": {
                        "text/plain": [
                            "{'criterion': 'entropy', 'max_depth': 16, 'min_samples_split': 16}"
                        ]
                    },
                    "execution_count": 69,
                    "metadata": {},
                    "output_type": "execute_result"
                }
            ],
            "source": [
                "grid.best_params_ "
            ]
        },
        {
            "cell_type": "code",
            "execution_count": 70,
            "metadata": {},
            "outputs": [],
            "source": [
                "# to see the results\n",
                "grid.best_estimator_\n",
                "\n",
                "# save it into best_grid\n",
                "model_cv=grid.best_estimator_"
            ]
        },
        {
            "cell_type": "code",
            "execution_count": 71,
            "metadata": {},
            "outputs": [
                {
                    "name": "stdout",
                    "output_type": "stream",
                    "text": [
                        "Accuracy of random foresct selected by CV in test set: 0.8430493273542601\n"
                    ]
                }
            ],
            "source": [
                "y_pred_cv = model_cv.predict(X_test)\n",
                "\n",
                "print('Accuracy of random foresct selected by CV in test set:',np.mean(y_test==y_pred_cv))"
            ]
        },
        {
            "cell_type": "code",
            "execution_count": 72,
            "metadata": {},
            "outputs": [
                {
                    "name": "stdout",
                    "output_type": "stream",
                    "text": [
                        "Accuracy of random foresct selected by CV in test set: 0.8430493273542601\n"
                    ]
                }
            ],
            "source": [
                "# Another way to calculate the accuracy (more direct)\n",
                "\n",
                "print('Accuracy of random foresct selected by CV in test set:',grid.score(X_test, y_test))"
            ]
        },
        {
            "cell_type": "code",
            "execution_count": 73,
            "metadata": {},
            "outputs": [
                {
                    "data": {
                        "image/png": "[encoded data removed]",
                        "text/plain": [
                            "<Figure size 432x288 with 2 Axes>"
                        ]
                    },
                    "metadata": {
                        "needs_background": "light"
                    },
                    "output_type": "display_data"
                }
            ],
            "source": [
                "cm = confusion_matrix(y_test, y_pred_cv, labels=grid.classes_)\n",
                "disp = ConfusionMatrixDisplay(confusion_matrix=cm,\n",
                "display_labels=grid.classes_)\n",
                "disp.plot()\n",
                "\n",
                "plt.show()"
            ]
        },
        {
            "cell_type": "code",
            "execution_count": 74,
            "metadata": {},
            "outputs": [
                {
                    "name": "stdout",
                    "output_type": "stream",
                    "text": [
                        "              precision    recall  f1-score   support\n",
                        "\n",
                        "           0       0.85      0.91      0.88       139\n",
                        "           1       0.84      0.73      0.78        84\n",
                        "\n",
                        "    accuracy                           0.84       223\n",
                        "   macro avg       0.84      0.82      0.83       223\n",
                        "weighted avg       0.84      0.84      0.84       223\n",
                        "\n"
                    ]
                }
            ],
            "source": [
                "print(classification_report(y_test,y_pred_cv))"
            ]
        }
    ],
    "metadata": {
        "kernelspec": {
            "display_name": "Python 3.8.13 64-bit ('3.8.13')",
            "language": "python",
            "name": "python3"
        },
        "language_info": {
            "codemirror_mode": {
                "name": "ipython",
                "version": 3
            },
            "file_extension": ".py",
            "mimetype": "text/x-python",
            "name": "python",
            "nbconvert_exporter": "python",
            "pygments_lexer": "ipython3",
            "version": "3.8.13"
        },
        "orig_nbformat": 4,
        "vscode": {
            "interpreter": {
                "hash": "110cc1dee26208153f2972f08a2ad52b6a56238dc66d48e87fb757ef2996db56"
            }
        }
    },
    "nbformat": 4,
    "nbformat_minor": 2
}
