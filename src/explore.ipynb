{
    "cells": [
        {
            "cell_type": "markdown",
            "metadata": {},
            "source": [
                "# Random forest: Titanic\n"
            ]
        },
        {
            "cell_type": "code",
            "execution_count": 90,
            "metadata": {},
            "outputs": [],
            "source": [
                "# Import libraries\n",
                "import pandas as pd \n",
                "import numpy as np \n",
                "import matplotlib.pyplot as plt  \n",
                "from sklearn.model_selection import train_test_split\n",
                "from sklearn import metrics\n",
                "from sklearn.model_selection import GridSearchCV\n",
                "from sklearn.pipeline import make_pipeline\n",
                "import pickle\n",
                "from sklearn.model_selection import cross_val_score\n",
                "from sklearn.tree import DecisionTreeClassifier\n",
                "from sklearn import tree\n",
                "from sklearn.ensemble import RandomForestClassifier\n",
                "from sklearn import metrics\n",
                "from sklearn.metrics import confusion_matrix\n",
                "from sklearn.metrics import ConfusionMatrixDisplay\n",
                "from sklearn.metrics import classification_report\n",
                "import seaborn as sns\n",
                "from sklearn.model_selection import RandomizedSearchCV\n",
                "\n"
            ]
        },
        {
            "cell_type": "code",
            "execution_count": 2,
            "metadata": {},
            "outputs": [],
            "source": [
                "url='https://raw.githubusercontent.com/4GeeksAcademy/random-forest-project-tutorial/main/titanic_train.csv'\n",
                "df_raw = pd.read_csv(url)"
            ]
        },
        {
            "cell_type": "code",
            "execution_count": 3,
            "metadata": {},
            "outputs": [
                {
                    "name": "stdout",
                    "output_type": "stream",
                    "text": [
                        "<class 'pandas.core.frame.DataFrame'>\n",
                        "RangeIndex: 891 entries, 0 to 890\n",
                        "Data columns (total 12 columns):\n",
                        " #   Column       Non-Null Count  Dtype  \n",
                        "---  ------       --------------  -----  \n",
                        " 0   PassengerId  891 non-null    int64  \n",
                        " 1   Survived     891 non-null    int64  \n",
                        " 2   Pclass       891 non-null    int64  \n",
                        " 3   Name         891 non-null    object \n",
                        " 4   Sex          891 non-null    object \n",
                        " 5   Age          714 non-null    float64\n",
                        " 6   SibSp        891 non-null    int64  \n",
                        " 7   Parch        891 non-null    int64  \n",
                        " 8   Ticket       891 non-null    object \n",
                        " 9   Fare         891 non-null    float64\n",
                        " 10  Cabin        204 non-null    object \n",
                        " 11  Embarked     889 non-null    object \n",
                        "dtypes: float64(2), int64(5), object(5)\n",
                        "memory usage: 83.7+ KB\n"
                    ]
                }
            ],
            "source": [
                "df_raw.info()"
            ]
        },
        {
            "cell_type": "code",
            "execution_count": 5,
            "metadata": {},
            "outputs": [
                {
                    "data": {
                        "text/html": [
                            "<div>\n",
                            "<style scoped>\n",
                            "    .dataframe tbody tr th:only-of-type {\n",
                            "        vertical-align: middle;\n",
                            "    }\n",
                            "\n",
                            "    .dataframe tbody tr th {\n",
                            "        vertical-align: top;\n",
                            "    }\n",
                            "\n",
                            "    .dataframe thead th {\n",
                            "        text-align: right;\n",
                            "    }\n",
                            "</style>\n",
                            "<table border=\"1\" class=\"dataframe\">\n",
                            "  <thead>\n",
                            "    <tr style=\"text-align: right;\">\n",
                            "      <th></th>\n",
                            "      <th>PassengerId</th>\n",
                            "      <th>Survived</th>\n",
                            "      <th>Pclass</th>\n",
                            "      <th>Age</th>\n",
                            "      <th>SibSp</th>\n",
                            "      <th>Parch</th>\n",
                            "      <th>Fare</th>\n",
                            "    </tr>\n",
                            "  </thead>\n",
                            "  <tbody>\n",
                            "    <tr>\n",
                            "      <th>count</th>\n",
                            "      <td>891.000000</td>\n",
                            "      <td>891.000000</td>\n",
                            "      <td>891.000000</td>\n",
                            "      <td>714.000000</td>\n",
                            "      <td>891.000000</td>\n",
                            "      <td>891.000000</td>\n",
                            "      <td>891.000000</td>\n",
                            "    </tr>\n",
                            "    <tr>\n",
                            "      <th>mean</th>\n",
                            "      <td>446.000000</td>\n",
                            "      <td>0.383838</td>\n",
                            "      <td>2.308642</td>\n",
                            "      <td>29.699118</td>\n",
                            "      <td>0.523008</td>\n",
                            "      <td>0.381594</td>\n",
                            "      <td>32.204208</td>\n",
                            "    </tr>\n",
                            "    <tr>\n",
                            "      <th>std</th>\n",
                            "      <td>257.353842</td>\n",
                            "      <td>0.486592</td>\n",
                            "      <td>0.836071</td>\n",
                            "      <td>14.526497</td>\n",
                            "      <td>1.102743</td>\n",
                            "      <td>0.806057</td>\n",
                            "      <td>49.693429</td>\n",
                            "    </tr>\n",
                            "    <tr>\n",
                            "      <th>min</th>\n",
                            "      <td>1.000000</td>\n",
                            "      <td>0.000000</td>\n",
                            "      <td>1.000000</td>\n",
                            "      <td>0.420000</td>\n",
                            "      <td>0.000000</td>\n",
                            "      <td>0.000000</td>\n",
                            "      <td>0.000000</td>\n",
                            "    </tr>\n",
                            "    <tr>\n",
                            "      <th>25%</th>\n",
                            "      <td>223.500000</td>\n",
                            "      <td>0.000000</td>\n",
                            "      <td>2.000000</td>\n",
                            "      <td>20.125000</td>\n",
                            "      <td>0.000000</td>\n",
                            "      <td>0.000000</td>\n",
                            "      <td>7.910400</td>\n",
                            "    </tr>\n",
                            "    <tr>\n",
                            "      <th>50%</th>\n",
                            "      <td>446.000000</td>\n",
                            "      <td>0.000000</td>\n",
                            "      <td>3.000000</td>\n",
                            "      <td>28.000000</td>\n",
                            "      <td>0.000000</td>\n",
                            "      <td>0.000000</td>\n",
                            "      <td>14.454200</td>\n",
                            "    </tr>\n",
                            "    <tr>\n",
                            "      <th>75%</th>\n",
                            "      <td>668.500000</td>\n",
                            "      <td>1.000000</td>\n",
                            "      <td>3.000000</td>\n",
                            "      <td>38.000000</td>\n",
                            "      <td>1.000000</td>\n",
                            "      <td>0.000000</td>\n",
                            "      <td>31.000000</td>\n",
                            "    </tr>\n",
                            "    <tr>\n",
                            "      <th>max</th>\n",
                            "      <td>891.000000</td>\n",
                            "      <td>1.000000</td>\n",
                            "      <td>3.000000</td>\n",
                            "      <td>80.000000</td>\n",
                            "      <td>8.000000</td>\n",
                            "      <td>6.000000</td>\n",
                            "      <td>512.329200</td>\n",
                            "    </tr>\n",
                            "  </tbody>\n",
                            "</table>\n",
                            "</div>"
                        ],
                        "text/plain": [
                            "       PassengerId    Survived      Pclass         Age       SibSp  \\\n",
                            "count   891.000000  891.000000  891.000000  714.000000  891.000000   \n",
                            "mean    446.000000    0.383838    2.308642   29.699118    0.523008   \n",
                            "std     257.353842    0.486592    0.836071   14.526497    1.102743   \n",
                            "min       1.000000    0.000000    1.000000    0.420000    0.000000   \n",
                            "25%     223.500000    0.000000    2.000000   20.125000    0.000000   \n",
                            "50%     446.000000    0.000000    3.000000   28.000000    0.000000   \n",
                            "75%     668.500000    1.000000    3.000000   38.000000    1.000000   \n",
                            "max     891.000000    1.000000    3.000000   80.000000    8.000000   \n",
                            "\n",
                            "            Parch        Fare  \n",
                            "count  891.000000  891.000000  \n",
                            "mean     0.381594   32.204208  \n",
                            "std      0.806057   49.693429  \n",
                            "min      0.000000    0.000000  \n",
                            "25%      0.000000    7.910400  \n",
                            "50%      0.000000   14.454200  \n",
                            "75%      0.000000   31.000000  \n",
                            "max      6.000000  512.329200  "
                        ]
                    },
                    "execution_count": 5,
                    "metadata": {},
                    "output_type": "execute_result"
                }
            ],
            "source": [
                "df_raw.describe()"
            ]
        },
        {
            "cell_type": "code",
            "execution_count": 6,
            "metadata": {},
            "outputs": [
                {
                    "data": {
                        "text/html": [
                            "<div>\n",
                            "<style scoped>\n",
                            "    .dataframe tbody tr th:only-of-type {\n",
                            "        vertical-align: middle;\n",
                            "    }\n",
                            "\n",
                            "    .dataframe tbody tr th {\n",
                            "        vertical-align: top;\n",
                            "    }\n",
                            "\n",
                            "    .dataframe thead th {\n",
                            "        text-align: right;\n",
                            "    }\n",
                            "</style>\n",
                            "<table border=\"1\" class=\"dataframe\">\n",
                            "  <thead>\n",
                            "    <tr style=\"text-align: right;\">\n",
                            "      <th></th>\n",
                            "      <th>Name</th>\n",
                            "      <th>Sex</th>\n",
                            "      <th>Ticket</th>\n",
                            "      <th>Cabin</th>\n",
                            "      <th>Embarked</th>\n",
                            "    </tr>\n",
                            "  </thead>\n",
                            "  <tbody>\n",
                            "    <tr>\n",
                            "      <th>count</th>\n",
                            "      <td>891</td>\n",
                            "      <td>891</td>\n",
                            "      <td>891</td>\n",
                            "      <td>204</td>\n",
                            "      <td>889</td>\n",
                            "    </tr>\n",
                            "    <tr>\n",
                            "      <th>unique</th>\n",
                            "      <td>891</td>\n",
                            "      <td>2</td>\n",
                            "      <td>681</td>\n",
                            "      <td>147</td>\n",
                            "      <td>3</td>\n",
                            "    </tr>\n",
                            "    <tr>\n",
                            "      <th>top</th>\n",
                            "      <td>Braund, Mr. Owen Harris</td>\n",
                            "      <td>male</td>\n",
                            "      <td>347082</td>\n",
                            "      <td>B96 B98</td>\n",
                            "      <td>S</td>\n",
                            "    </tr>\n",
                            "    <tr>\n",
                            "      <th>freq</th>\n",
                            "      <td>1</td>\n",
                            "      <td>577</td>\n",
                            "      <td>7</td>\n",
                            "      <td>4</td>\n",
                            "      <td>644</td>\n",
                            "    </tr>\n",
                            "  </tbody>\n",
                            "</table>\n",
                            "</div>"
                        ],
                        "text/plain": [
                            "                           Name   Sex  Ticket    Cabin Embarked\n",
                            "count                       891   891     891      204      889\n",
                            "unique                      891     2     681      147        3\n",
                            "top     Braund, Mr. Owen Harris  male  347082  B96 B98        S\n",
                            "freq                          1   577       7        4      644"
                        ]
                    },
                    "execution_count": 6,
                    "metadata": {},
                    "output_type": "execute_result"
                }
            ],
            "source": [
                "df.describe(include='object')"
            ]
        },
        {
            "cell_type": "code",
            "execution_count": 7,
            "metadata": {},
            "outputs": [
                {
                    "data": {
                        "text/html": [
                            "<div>\n",
                            "<style scoped>\n",
                            "    .dataframe tbody tr th:only-of-type {\n",
                            "        vertical-align: middle;\n",
                            "    }\n",
                            "\n",
                            "    .dataframe tbody tr th {\n",
                            "        vertical-align: top;\n",
                            "    }\n",
                            "\n",
                            "    .dataframe thead th {\n",
                            "        text-align: right;\n",
                            "    }\n",
                            "</style>\n",
                            "<table border=\"1\" class=\"dataframe\">\n",
                            "  <thead>\n",
                            "    <tr style=\"text-align: right;\">\n",
                            "      <th></th>\n",
                            "      <th>PassengerId</th>\n",
                            "      <th>Survived</th>\n",
                            "      <th>Pclass</th>\n",
                            "      <th>Name</th>\n",
                            "      <th>Sex</th>\n",
                            "      <th>Age</th>\n",
                            "      <th>SibSp</th>\n",
                            "      <th>Parch</th>\n",
                            "      <th>Ticket</th>\n",
                            "      <th>Fare</th>\n",
                            "      <th>Cabin</th>\n",
                            "      <th>Embarked</th>\n",
                            "    </tr>\n",
                            "  </thead>\n",
                            "  <tbody>\n",
                            "    <tr>\n",
                            "      <th>219</th>\n",
                            "      <td>220</td>\n",
                            "      <td>0</td>\n",
                            "      <td>2</td>\n",
                            "      <td>Harris, Mr. Walter</td>\n",
                            "      <td>male</td>\n",
                            "      <td>30.0</td>\n",
                            "      <td>0</td>\n",
                            "      <td>0</td>\n",
                            "      <td>W/C 14208</td>\n",
                            "      <td>10.5000</td>\n",
                            "      <td>NaN</td>\n",
                            "      <td>S</td>\n",
                            "    </tr>\n",
                            "    <tr>\n",
                            "      <th>865</th>\n",
                            "      <td>866</td>\n",
                            "      <td>1</td>\n",
                            "      <td>2</td>\n",
                            "      <td>Bystrom, Mrs. (Karolina)</td>\n",
                            "      <td>female</td>\n",
                            "      <td>42.0</td>\n",
                            "      <td>0</td>\n",
                            "      <td>0</td>\n",
                            "      <td>236852</td>\n",
                            "      <td>13.0000</td>\n",
                            "      <td>NaN</td>\n",
                            "      <td>S</td>\n",
                            "    </tr>\n",
                            "    <tr>\n",
                            "      <th>729</th>\n",
                            "      <td>730</td>\n",
                            "      <td>0</td>\n",
                            "      <td>3</td>\n",
                            "      <td>Ilmakangas, Miss. Pieta Sofia</td>\n",
                            "      <td>female</td>\n",
                            "      <td>25.0</td>\n",
                            "      <td>1</td>\n",
                            "      <td>0</td>\n",
                            "      <td>STON/O2. 3101271</td>\n",
                            "      <td>7.9250</td>\n",
                            "      <td>NaN</td>\n",
                            "      <td>S</td>\n",
                            "    </tr>\n",
                            "    <tr>\n",
                            "      <th>419</th>\n",
                            "      <td>420</td>\n",
                            "      <td>0</td>\n",
                            "      <td>3</td>\n",
                            "      <td>Van Impe, Miss. Catharina</td>\n",
                            "      <td>female</td>\n",
                            "      <td>10.0</td>\n",
                            "      <td>0</td>\n",
                            "      <td>2</td>\n",
                            "      <td>345773</td>\n",
                            "      <td>24.1500</td>\n",
                            "      <td>NaN</td>\n",
                            "      <td>S</td>\n",
                            "    </tr>\n",
                            "    <tr>\n",
                            "      <th>832</th>\n",
                            "      <td>833</td>\n",
                            "      <td>0</td>\n",
                            "      <td>3</td>\n",
                            "      <td>Saad, Mr. Amin</td>\n",
                            "      <td>male</td>\n",
                            "      <td>NaN</td>\n",
                            "      <td>0</td>\n",
                            "      <td>0</td>\n",
                            "      <td>2671</td>\n",
                            "      <td>7.2292</td>\n",
                            "      <td>NaN</td>\n",
                            "      <td>C</td>\n",
                            "    </tr>\n",
                            "    <tr>\n",
                            "      <th>317</th>\n",
                            "      <td>318</td>\n",
                            "      <td>0</td>\n",
                            "      <td>2</td>\n",
                            "      <td>Moraweck, Dr. Ernest</td>\n",
                            "      <td>male</td>\n",
                            "      <td>54.0</td>\n",
                            "      <td>0</td>\n",
                            "      <td>0</td>\n",
                            "      <td>29011</td>\n",
                            "      <td>14.0000</td>\n",
                            "      <td>NaN</td>\n",
                            "      <td>S</td>\n",
                            "    </tr>\n",
                            "    <tr>\n",
                            "      <th>284</th>\n",
                            "      <td>285</td>\n",
                            "      <td>0</td>\n",
                            "      <td>1</td>\n",
                            "      <td>Smith, Mr. Richard William</td>\n",
                            "      <td>male</td>\n",
                            "      <td>NaN</td>\n",
                            "      <td>0</td>\n",
                            "      <td>0</td>\n",
                            "      <td>113056</td>\n",
                            "      <td>26.0000</td>\n",
                            "      <td>A19</td>\n",
                            "      <td>S</td>\n",
                            "    </tr>\n",
                            "    <tr>\n",
                            "      <th>104</th>\n",
                            "      <td>105</td>\n",
                            "      <td>0</td>\n",
                            "      <td>3</td>\n",
                            "      <td>Gustafsson, Mr. Anders Vilhelm</td>\n",
                            "      <td>male</td>\n",
                            "      <td>37.0</td>\n",
                            "      <td>2</td>\n",
                            "      <td>0</td>\n",
                            "      <td>3101276</td>\n",
                            "      <td>7.9250</td>\n",
                            "      <td>NaN</td>\n",
                            "      <td>S</td>\n",
                            "    </tr>\n",
                            "    <tr>\n",
                            "      <th>562</th>\n",
                            "      <td>563</td>\n",
                            "      <td>0</td>\n",
                            "      <td>2</td>\n",
                            "      <td>Norman, Mr. Robert Douglas</td>\n",
                            "      <td>male</td>\n",
                            "      <td>28.0</td>\n",
                            "      <td>0</td>\n",
                            "      <td>0</td>\n",
                            "      <td>218629</td>\n",
                            "      <td>13.5000</td>\n",
                            "      <td>NaN</td>\n",
                            "      <td>S</td>\n",
                            "    </tr>\n",
                            "    <tr>\n",
                            "      <th>496</th>\n",
                            "      <td>497</td>\n",
                            "      <td>1</td>\n",
                            "      <td>1</td>\n",
                            "      <td>Eustis, Miss. Elizabeth Mussey</td>\n",
                            "      <td>female</td>\n",
                            "      <td>54.0</td>\n",
                            "      <td>1</td>\n",
                            "      <td>0</td>\n",
                            "      <td>36947</td>\n",
                            "      <td>78.2667</td>\n",
                            "      <td>D20</td>\n",
                            "      <td>C</td>\n",
                            "    </tr>\n",
                            "  </tbody>\n",
                            "</table>\n",
                            "</div>"
                        ],
                        "text/plain": [
                            "     PassengerId  Survived  Pclass                            Name     Sex  \\\n",
                            "219          220         0       2              Harris, Mr. Walter    male   \n",
                            "865          866         1       2        Bystrom, Mrs. (Karolina)  female   \n",
                            "729          730         0       3   Ilmakangas, Miss. Pieta Sofia  female   \n",
                            "419          420         0       3       Van Impe, Miss. Catharina  female   \n",
                            "832          833         0       3                  Saad, Mr. Amin    male   \n",
                            "317          318         0       2            Moraweck, Dr. Ernest    male   \n",
                            "284          285         0       1      Smith, Mr. Richard William    male   \n",
                            "104          105         0       3  Gustafsson, Mr. Anders Vilhelm    male   \n",
                            "562          563         0       2      Norman, Mr. Robert Douglas    male   \n",
                            "496          497         1       1  Eustis, Miss. Elizabeth Mussey  female   \n",
                            "\n",
                            "      Age  SibSp  Parch            Ticket     Fare Cabin Embarked  \n",
                            "219  30.0      0      0         W/C 14208  10.5000   NaN        S  \n",
                            "865  42.0      0      0            236852  13.0000   NaN        S  \n",
                            "729  25.0      1      0  STON/O2. 3101271   7.9250   NaN        S  \n",
                            "419  10.0      0      2            345773  24.1500   NaN        S  \n",
                            "832   NaN      0      0              2671   7.2292   NaN        C  \n",
                            "317  54.0      0      0             29011  14.0000   NaN        S  \n",
                            "284   NaN      0      0            113056  26.0000   A19        S  \n",
                            "104  37.0      2      0           3101276   7.9250   NaN        S  \n",
                            "562  28.0      0      0            218629  13.5000   NaN        S  \n",
                            "496  54.0      1      0             36947  78.2667   D20        C  "
                        ]
                    },
                    "execution_count": 7,
                    "metadata": {},
                    "output_type": "execute_result"
                }
            ],
            "source": [
                "df.sample(10)"
            ]
        },
        {
            "cell_type": "code",
            "execution_count": 47,
            "metadata": {},
            "outputs": [],
            "source": [
                "df = df_raw.copy()"
            ]
        },
        {
            "cell_type": "markdown",
            "metadata": {},
            "source": [
                "Check if there are duplicated passengers"
            ]
        },
        {
            "cell_type": "code",
            "execution_count": 12,
            "metadata": {},
            "outputs": [
                {
                    "name": "stdout",
                    "output_type": "stream",
                    "text": [
                        "It seems that there are 0 duplicated passenger according to the PassengerId feature\n"
                    ]
                }
            ],
            "source": [
                "df_duplicates = df['PassengerId'].duplicated().sum()\n",
                "\n",
                "print(f'It seems that there are {df_duplicates} duplicated passenger according to the PassengerId feature.')"
            ]
        },
        {
            "cell_type": "markdown",
            "metadata": {},
            "source": [
                "Drop irrelevant columns"
            ]
        },
        {
            "cell_type": "code",
            "execution_count": 48,
            "metadata": {},
            "outputs": [],
            "source": [
                "drop_cols = ['PassengerId','Cabin', 'Ticket', 'Name']\n",
                "df = df.drop(drop_cols, axis = 1)"
            ]
        },
        {
            "cell_type": "markdown",
            "metadata": {},
            "source": [
                "Fill missing values"
            ]
        },
        {
            "cell_type": "code",
            "execution_count": 49,
            "metadata": {},
            "outputs": [
                {
                    "data": {
                        "text/html": [
                            "<div>\n",
                            "<style scoped>\n",
                            "    .dataframe tbody tr th:only-of-type {\n",
                            "        vertical-align: middle;\n",
                            "    }\n",
                            "\n",
                            "    .dataframe tbody tr th {\n",
                            "        vertical-align: top;\n",
                            "    }\n",
                            "\n",
                            "    .dataframe thead th {\n",
                            "        text-align: right;\n",
                            "    }\n",
                            "</style>\n",
                            "<table border=\"1\" class=\"dataframe\">\n",
                            "  <thead>\n",
                            "    <tr style=\"text-align: right;\">\n",
                            "      <th></th>\n",
                            "      <th>count</th>\n",
                            "      <th>mean</th>\n",
                            "      <th>std</th>\n",
                            "      <th>min</th>\n",
                            "      <th>25%</th>\n",
                            "      <th>50%</th>\n",
                            "      <th>75%</th>\n",
                            "      <th>max</th>\n",
                            "    </tr>\n",
                            "    <tr>\n",
                            "      <th>Sex</th>\n",
                            "      <th></th>\n",
                            "      <th></th>\n",
                            "      <th></th>\n",
                            "      <th></th>\n",
                            "      <th></th>\n",
                            "      <th></th>\n",
                            "      <th></th>\n",
                            "      <th></th>\n",
                            "    </tr>\n",
                            "  </thead>\n",
                            "  <tbody>\n",
                            "    <tr>\n",
                            "      <th>female</th>\n",
                            "      <td>261.0</td>\n",
                            "      <td>27.915709</td>\n",
                            "      <td>14.110146</td>\n",
                            "      <td>0.75</td>\n",
                            "      <td>18.0</td>\n",
                            "      <td>27.0</td>\n",
                            "      <td>37.0</td>\n",
                            "      <td>63.0</td>\n",
                            "    </tr>\n",
                            "    <tr>\n",
                            "      <th>male</th>\n",
                            "      <td>453.0</td>\n",
                            "      <td>30.726645</td>\n",
                            "      <td>14.678201</td>\n",
                            "      <td>0.42</td>\n",
                            "      <td>21.0</td>\n",
                            "      <td>29.0</td>\n",
                            "      <td>39.0</td>\n",
                            "      <td>80.0</td>\n",
                            "    </tr>\n",
                            "  </tbody>\n",
                            "</table>\n",
                            "</div>"
                        ],
                        "text/plain": [
                            "        count       mean        std   min   25%   50%   75%   max\n",
                            "Sex                                                              \n",
                            "female  261.0  27.915709  14.110146  0.75  18.0  27.0  37.0  63.0\n",
                            "male    453.0  30.726645  14.678201  0.42  21.0  29.0  39.0  80.0"
                        ]
                    },
                    "execution_count": 49,
                    "metadata": {},
                    "output_type": "execute_result"
                }
            ],
            "source": [
                "# Age by sex\n",
                "df.groupby('Sex')['Age'].describe()\n",
                "\n",
                "# The mean age is different for male and female --> fill missing values of age with the median of the sex"
            ]
        },
        {
            "cell_type": "code",
            "execution_count": 50,
            "metadata": {},
            "outputs": [],
            "source": [
                "# Fill missing values of age with mean by sex\n",
                "#  \n",
                "df.loc[df['Sex']=='female','Age']=df[(df['Sex']=='female')].fillna(df.loc[df['Sex']=='female','Age'].mean())\n",
                "\n",
                "df.loc[df['Sex']=='male','Age']=df[(df['Sex']=='male')].fillna(df.loc[df['Sex']=='male','Age'].mean())"
            ]
        },
        {
            "cell_type": "code",
            "execution_count": 51,
            "metadata": {},
            "outputs": [],
            "source": [
                "# Fill missing values of Embarked with mode\n",
                "\n",
                "df['Embarked']=df['Embarked'].fillna(df['Embarked'].mode()[0])"
            ]
        },
        {
            "cell_type": "code",
            "execution_count": 52,
            "metadata": {},
            "outputs": [
                {
                    "data": {
                        "text/plain": [
                            "Survived    0\n",
                            "Pclass      0\n",
                            "Sex         0\n",
                            "Age         0\n",
                            "SibSp       0\n",
                            "Parch       0\n",
                            "Fare        0\n",
                            "Embarked    0\n",
                            "dtype: int64"
                        ]
                    },
                    "execution_count": 52,
                    "metadata": {},
                    "output_type": "execute_result"
                }
            ],
            "source": [
                "# The are not null values\n",
                "\n",
                "df.isnull().sum()"
            ]
        },
        {
            "cell_type": "markdown",
            "metadata": {},
            "source": [
                "Encoding categorical variables"
            ]
        },
        {
            "cell_type": "code",
            "execution_count": 53,
            "metadata": {},
            "outputs": [],
            "source": [
                "# Change type of variables \n",
                "\n",
                "df[['Sex','Embarked']]=df[['Sex','Embarked']].astype('category')"
            ]
        },
        {
            "cell_type": "code",
            "execution_count": 54,
            "metadata": {},
            "outputs": [],
            "source": [
                "# Encoding\n",
                "\n",
                "df['Sex']=df['Sex'].cat.codes\n",
                "\n",
                "df['Embarked']=df['Embarked'].cat.codes"
            ]
        },
        {
            "cell_type": "code",
            "execution_count": 34,
            "metadata": {},
            "outputs": [
                {
                    "data": {
                        "text/html": [
                            "<div>\n",
                            "<style scoped>\n",
                            "    .dataframe tbody tr th:only-of-type {\n",
                            "        vertical-align: middle;\n",
                            "    }\n",
                            "\n",
                            "    .dataframe tbody tr th {\n",
                            "        vertical-align: top;\n",
                            "    }\n",
                            "\n",
                            "    .dataframe thead th {\n",
                            "        text-align: right;\n",
                            "    }\n",
                            "</style>\n",
                            "<table border=\"1\" class=\"dataframe\">\n",
                            "  <thead>\n",
                            "    <tr style=\"text-align: right;\">\n",
                            "      <th></th>\n",
                            "      <th>Survived</th>\n",
                            "      <th>Pclass</th>\n",
                            "      <th>Sex</th>\n",
                            "      <th>Age</th>\n",
                            "      <th>SibSp</th>\n",
                            "      <th>Parch</th>\n",
                            "      <th>Fare</th>\n",
                            "      <th>Embarked</th>\n",
                            "    </tr>\n",
                            "  </thead>\n",
                            "  <tbody>\n",
                            "    <tr>\n",
                            "      <th>0</th>\n",
                            "      <td>0</td>\n",
                            "      <td>3</td>\n",
                            "      <td>1</td>\n",
                            "      <td>22.0</td>\n",
                            "      <td>1</td>\n",
                            "      <td>0</td>\n",
                            "      <td>7.2500</td>\n",
                            "      <td>2</td>\n",
                            "    </tr>\n",
                            "    <tr>\n",
                            "      <th>1</th>\n",
                            "      <td>1</td>\n",
                            "      <td>1</td>\n",
                            "      <td>0</td>\n",
                            "      <td>38.0</td>\n",
                            "      <td>1</td>\n",
                            "      <td>0</td>\n",
                            "      <td>71.2833</td>\n",
                            "      <td>0</td>\n",
                            "    </tr>\n",
                            "    <tr>\n",
                            "      <th>2</th>\n",
                            "      <td>1</td>\n",
                            "      <td>3</td>\n",
                            "      <td>0</td>\n",
                            "      <td>26.0</td>\n",
                            "      <td>0</td>\n",
                            "      <td>0</td>\n",
                            "      <td>7.9250</td>\n",
                            "      <td>2</td>\n",
                            "    </tr>\n",
                            "    <tr>\n",
                            "      <th>3</th>\n",
                            "      <td>1</td>\n",
                            "      <td>1</td>\n",
                            "      <td>0</td>\n",
                            "      <td>35.0</td>\n",
                            "      <td>1</td>\n",
                            "      <td>0</td>\n",
                            "      <td>53.1000</td>\n",
                            "      <td>2</td>\n",
                            "    </tr>\n",
                            "    <tr>\n",
                            "      <th>4</th>\n",
                            "      <td>0</td>\n",
                            "      <td>3</td>\n",
                            "      <td>1</td>\n",
                            "      <td>35.0</td>\n",
                            "      <td>0</td>\n",
                            "      <td>0</td>\n",
                            "      <td>8.0500</td>\n",
                            "      <td>2</td>\n",
                            "    </tr>\n",
                            "  </tbody>\n",
                            "</table>\n",
                            "</div>"
                        ],
                        "text/plain": [
                            "   Survived  Pclass  Sex   Age  SibSp  Parch     Fare  Embarked\n",
                            "0         0       3    1  22.0      1      0   7.2500         2\n",
                            "1         1       1    0  38.0      1      0  71.2833         0\n",
                            "2         1       3    0  26.0      0      0   7.9250         2\n",
                            "3         1       1    0  35.0      1      0  53.1000         2\n",
                            "4         0       3    1  35.0      0      0   8.0500         2"
                        ]
                    },
                    "execution_count": 34,
                    "metadata": {},
                    "output_type": "execute_result"
                }
            ],
            "source": [
                "df.head()"
            ]
        },
        {
            "cell_type": "markdown",
            "metadata": {},
            "source": [
                "## Start modeling"
            ]
        },
        {
            "cell_type": "code",
            "execution_count": 56,
            "metadata": {},
            "outputs": [],
            "source": [
                "# Train, test datasets\n",
                "\n",
                "X = df.drop('Survived', axis=1)\n",
                "\n",
                "y= df['Survived']\n",
                "\n",
                "X_train, X_test, y_train, y_test = train_test_split(X, y, random_state=1107)"
            ]
        },
        {
            "cell_type": "code",
            "execution_count": 57,
            "metadata": {},
            "outputs": [
                {
                    "data": {
                        "text/plain": [
                            "0    0.616162\n",
                            "1    0.383838\n",
                            "Name: Survived, dtype: float64"
                        ]
                    },
                    "execution_count": 57,
                    "metadata": {},
                    "output_type": "execute_result"
                }
            ],
            "source": [
                "y.value_counts(normalize=True)"
            ]
        },
        {
            "cell_type": "markdown",
            "metadata": {},
            "source": [
                "### 1. Random forest with default hyperparameters"
            ]
        },
        {
            "cell_type": "code",
            "execution_count": 58,
            "metadata": {},
            "outputs": [],
            "source": [
                "rfc1 = RandomForestClassifier(random_state=1107)\n",
                "\n",
                "rfc1.fit(X_train, y_train)\n",
                "\n",
                "y_pred = rfc1.predict(X_test)"
            ]
        },
        {
            "cell_type": "code",
            "execution_count": 59,
            "metadata": {},
            "outputs": [
                {
                    "name": "stdout",
                    "output_type": "stream",
                    "text": [
                        "Accuracy Random Forest with default parameters: 0.8251121076233184\n"
                    ]
                }
            ],
            "source": [
                "print('Accuracy Random Forest with default parameters:',rfc1.score(X_test, y_test))"
            ]
        },
        {
            "cell_type": "code",
            "execution_count": 60,
            "metadata": {},
            "outputs": [
                {
                    "data": {
                        "image/png": "[encoded data removed]",
                        "text/plain": [
                            "<Figure size 432x288 with 2 Axes>"
                        ]
                    },
                    "metadata": {
                        "needs_background": "light"
                    },
                    "output_type": "display_data"
                }
            ],
            "source": [
                "cm = confusion_matrix(y_test, y_pred, labels=rfc1.classes_)\n",
                "disp = ConfusionMatrixDisplay(confusion_matrix=cm,\n",
                "display_labels=rfc1.classes_)\n",
                "disp.plot()\n",
                "\n",
                "plt.show()"
            ]
        },
        {
            "cell_type": "code",
            "execution_count": 61,
            "metadata": {},
            "outputs": [
                {
                    "name": "stdout",
                    "output_type": "stream",
                    "text": [
                        "              precision    recall  f1-score   support\n",
                        "\n",
                        "           0       0.84      0.90      0.87       141\n",
                        "           1       0.80      0.70      0.75        82\n",
                        "\n",
                        "    accuracy                           0.83       223\n",
                        "   macro avg       0.82      0.80      0.81       223\n",
                        "weighted avg       0.82      0.83      0.82       223\n",
                        "\n"
                    ]
                }
            ],
            "source": [
                "print(classification_report(y_test,y_pred))\n",
                "\n",
                "# 90% of the true non-survivers were predicted correctly (recall of class 0)\n",
                "# 84% of the 0 predictions were correct\n",
                "\n",
                "# If i had predicted that all the passengers died, the accuracy would have been 0.63 (141/(141+82))"
            ]
        },
        {
            "cell_type": "markdown",
            "metadata": {},
            "source": [
                "### 2. Optimize model hyperparameters to select the better forest"
            ]
        },
        {
            "cell_type": "markdown",
            "metadata": {},
            "source": [
                "2.1 Grid Search CV (tries with all the possible combinations)"
            ]
        },
        {
            "cell_type": "code",
            "execution_count": 63,
            "metadata": {},
            "outputs": [
                {
                    "name": "stdout",
                    "output_type": "stream",
                    "text": [
                        "[{'max_depth': [8, 12, 16], 'min_samples_split': [12, 16, 20], 'criterion': ['gini', 'entropy']}]\n"
                    ]
                }
            ],
            "source": [
                "param_grid = [{'max_depth': [8, 12, 16], \n",
                "         'min_samples_split': [12, 16, 20], \n",
                "         'criterion': ['gini', 'entropy']}]\n",
                "\n",
                "print(param_grid)"
            ]
        },
        {
            "cell_type": "code",
            "execution_count": 68,
            "metadata": {},
            "outputs": [
                {
                    "name": "stdout",
                    "output_type": "stream",
                    "text": [
                        "Fitting 5 folds for each of 18 candidates, totalling 90 fits\n",
                        "[CV] END ..criterion=gini, max_depth=8, min_samples_split=20; total time=   0.3s\n",
                        "[CV] END ..criterion=gini, max_depth=8, min_samples_split=16; total time=   0.3s\n",
                        "[CV] END ..criterion=gini, max_depth=8, min_samples_split=12; total time=   0.3s\n",
                        "[CV] END ..criterion=gini, max_depth=8, min_samples_split=12; total time=   0.4s\n",
                        "[CV] END ..criterion=gini, max_depth=8, min_samples_split=16; total time=   0.4s\n",
                        "[CV] END ..criterion=gini, max_depth=8, min_samples_split=12; total time=   0.4s\n",
                        "[CV] END ..criterion=gini, max_depth=8, min_samples_split=16; total time=   0.4s\n",
                        "[CV] END ..criterion=gini, max_depth=8, min_samples_split=12; total time=   0.5s\n",
                        "[CV] END ..criterion=gini, max_depth=8, min_samples_split=16; total time=   0.5s\n",
                        "[CV] END ..criterion=gini, max_depth=8, min_samples_split=12; total time=   0.5s\n",
                        "[CV] END ..criterion=gini, max_depth=8, min_samples_split=16; total time=   0.5s\n",
                        "[CV] END ..criterion=gini, max_depth=8, min_samples_split=20; total time=   0.6s\n",
                        "[CV] END .criterion=gini, max_depth=12, min_samples_split=12; total time=   0.4s\n",
                        "[CV] END ..criterion=gini, max_depth=8, min_samples_split=20; total time=   0.7s\n",
                        "[CV] END .criterion=gini, max_depth=12, min_samples_split=12; total time=   0.6s\n",
                        "[CV] END .criterion=gini, max_depth=12, min_samples_split=16; total time=   0.4s\n",
                        "[CV] END .criterion=gini, max_depth=12, min_samples_split=12; total time=   0.6s\n",
                        "[CV] END .criterion=gini, max_depth=12, min_samples_split=20; total time=   0.5s\n",
                        "[CV] END .criterion=gini, max_depth=12, min_samples_split=20; total time=   0.4s\n",
                        "[CV] END .criterion=gini, max_depth=12, min_samples_split=16; total time=   0.6s\n",
                        "[CV] END .criterion=gini, max_depth=12, min_samples_split=16; total time=   0.6s\n",
                        "[CV] END .criterion=gini, max_depth=12, min_samples_split=12; total time=   0.7s\n",
                        "[CV] END .criterion=gini, max_depth=12, min_samples_split=12; total time=   0.9s\n",
                        "[CV] END .criterion=gini, max_depth=12, min_samples_split=20; total time=   0.4s\n",
                        "[CV] END .criterion=gini, max_depth=12, min_samples_split=16; total time=   0.7s\n",
                        "[CV] END .criterion=gini, max_depth=12, min_samples_split=16; total time=   0.7s\n",
                        "[CV] END .criterion=gini, max_depth=16, min_samples_split=12; total time=   0.3s\n",
                        "[CV] END ..criterion=gini, max_depth=8, min_samples_split=20; total time=   1.3s\n",
                        "[CV] END .criterion=gini, max_depth=16, min_samples_split=12; total time=   0.5s\n",
                        "[CV] END .criterion=gini, max_depth=16, min_samples_split=12; total time=   0.5s\n",
                        "[CV] END .criterion=gini, max_depth=16, min_samples_split=12; total time=   0.4s\n",
                        "[CV] END .criterion=gini, max_depth=16, min_samples_split=16; total time=   0.3s\n",
                        "[CV] END .criterion=gini, max_depth=16, min_samples_split=16; total time=   0.4s\n",
                        "[CV] END ..criterion=gini, max_depth=8, min_samples_split=20; total time=   1.4s\n",
                        "[CV] END .criterion=gini, max_depth=12, min_samples_split=20; total time=   0.8s\n",
                        "[CV] END .criterion=gini, max_depth=16, min_samples_split=16; total time=   0.5s\n",
                        "[CV] END .criterion=gini, max_depth=16, min_samples_split=20; total time=   0.3s\n",
                        "[CV] END .criterion=gini, max_depth=16, min_samples_split=16; total time=   0.6s\n",
                        "[CV] END criterion=entropy, max_depth=8, min_samples_split=12; total time=   0.3s\n",
                        "[CV] END criterion=entropy, max_depth=8, min_samples_split=12; total time=   0.4s\n",
                        "[CV] END .criterion=gini, max_depth=16, min_samples_split=20; total time=   0.5s\n",
                        "[CV] END .criterion=gini, max_depth=12, min_samples_split=20; total time=   1.0s\n",
                        "[CV] END .criterion=gini, max_depth=16, min_samples_split=12; total time=   1.0s\n",
                        "[CV] END criterion=entropy, max_depth=8, min_samples_split=16; total time=   0.3s\n",
                        "[CV] END criterion=entropy, max_depth=8, min_samples_split=12; total time=   0.6s\n",
                        "[CV] END criterion=entropy, max_depth=8, min_samples_split=16; total time=   0.3s\n",
                        "[CV] END .criterion=gini, max_depth=16, min_samples_split=16; total time=   0.9s[CV] END criterion=entropy, max_depth=8, min_samples_split=16; total time=   0.4s\n",
                        "\n",
                        "[CV] END criterion=entropy, max_depth=8, min_samples_split=12; total time=   0.6s\n",
                        "[CV] END criterion=entropy, max_depth=8, min_samples_split=20; total time=   0.4s\n",
                        "[CV] END criterion=entropy, max_depth=8, min_samples_split=16; total time=   0.6s\n",
                        "[CV] END .criterion=gini, max_depth=16, min_samples_split=20; total time=   1.0s\n",
                        "[CV] END criterion=entropy, max_depth=8, min_samples_split=20; total time=   0.4s\n",
                        "[CV] END .criterion=gini, max_depth=16, min_samples_split=20; total time=   0.9s\n",
                        "[CV] END criterion=entropy, max_depth=8, min_samples_split=16; total time=   0.7s\n",
                        "[CV] END criterion=entropy, max_depth=12, min_samples_split=12; total time=   0.4s\n",
                        "[CV] END .criterion=gini, max_depth=16, min_samples_split=20; total time=   1.3s\n",
                        "[CV] END criterion=entropy, max_depth=8, min_samples_split=20; total time=   0.4s\n",
                        "[CV] END criterion=entropy, max_depth=12, min_samples_split=12; total time=   0.5s\n",
                        "[CV] END criterion=entropy, max_depth=8, min_samples_split=12; total time=   1.0s\n",
                        "[CV] END criterion=entropy, max_depth=12, min_samples_split=12; total time=   0.4s\n",
                        "[CV] END criterion=entropy, max_depth=12, min_samples_split=16; total time=   0.4s\n",
                        "[CV] END criterion=entropy, max_depth=12, min_samples_split=16; total time=   0.4s\n",
                        "[CV] END criterion=entropy, max_depth=12, min_samples_split=12; total time=   0.6s\n",
                        "[CV] END criterion=entropy, max_depth=12, min_samples_split=20; total time=   0.5s\n",
                        "[CV] END criterion=entropy, max_depth=12, min_samples_split=20; total time=   0.4s\n",
                        "[CV] END criterion=entropy, max_depth=8, min_samples_split=20; total time=   0.9s\n",
                        "[CV] END criterion=entropy, max_depth=12, min_samples_split=16; total time=   0.6s\n",
                        "[CV] END criterion=entropy, max_depth=12, min_samples_split=12; total time=   0.8s\n",
                        "[CV] END criterion=entropy, max_depth=12, min_samples_split=16; total time=   0.7s\n",
                        "[CV] END criterion=entropy, max_depth=12, min_samples_split=20; total time=   0.6s\n",
                        "[CV] END criterion=entropy, max_depth=16, min_samples_split=12; total time=   0.5s\n",
                        "[CV] END criterion=entropy, max_depth=16, min_samples_split=12; total time=   0.4s\n",
                        "[CV] END criterion=entropy, max_depth=16, min_samples_split=12; total time=   0.5s\n",
                        "[CV] END criterion=entropy, max_depth=12, min_samples_split=20; total time=   0.7s\n",
                        "[CV] END criterion=entropy, max_depth=8, min_samples_split=20; total time=   1.3s\n",
                        "[CV] END criterion=entropy, max_depth=16, min_samples_split=12; total time=   0.6s\n",
                        "[CV] END criterion=entropy, max_depth=16, min_samples_split=16; total time=   0.5s\n",
                        "[CV] END criterion=entropy, max_depth=16, min_samples_split=16; total time=   0.5s\n",
                        "[CV] END criterion=entropy, max_depth=12, min_samples_split=20; total time=   0.9s\n",
                        "[CV] END criterion=entropy, max_depth=16, min_samples_split=16; total time=   0.5s\n",
                        "[CV] END criterion=entropy, max_depth=12, min_samples_split=16; total time=   1.0s\n",
                        "[CV] END criterion=entropy, max_depth=16, min_samples_split=12; total time=   0.6s\n",
                        "[CV] END criterion=entropy, max_depth=16, min_samples_split=16; total time=   0.5s\n",
                        "[CV] END criterion=entropy, max_depth=16, min_samples_split=20; total time=   0.3s\n",
                        "[CV] END criterion=entropy, max_depth=16, min_samples_split=20; total time=   0.3s\n",
                        "[CV] END criterion=entropy, max_depth=16, min_samples_split=16; total time=   0.6s\n",
                        "[CV] END criterion=entropy, max_depth=16, min_samples_split=20; total time=   0.4s\n",
                        "[CV] END criterion=entropy, max_depth=16, min_samples_split=20; total time=   0.5s\n",
                        "[CV] END criterion=entropy, max_depth=16, min_samples_split=20; total time=   0.5s\n"
                    ]
                },
                {
                    "data": {
                        "text/html": [
                            "<style>#sk-container-id-2 {color: black;background-color: white;}#sk-container-id-2 pre{padding: 0;}#sk-container-id-2 div.sk-toggleable {background-color: white;}#sk-container-id-2 label.sk-toggleable__label {cursor: pointer;display: block;width: 100%;margin-bottom: 0;padding: 0.3em;box-sizing: border-box;text-align: center;}#sk-container-id-2 label.sk-toggleable__label-arrow:before {content: \"▸\";float: left;margin-right: 0.25em;color: #696969;}#sk-container-id-2 label.sk-toggleable__label-arrow:hover:before {color: black;}#sk-container-id-2 div.sk-estimator:hover label.sk-toggleable__label-arrow:before {color: black;}#sk-container-id-2 div.sk-toggleable__content {max-height: 0;max-width: 0;overflow: hidden;text-align: left;background-color: #f0f8ff;}#sk-container-id-2 div.sk-toggleable__content pre {margin: 0.2em;color: black;border-radius: 0.25em;background-color: #f0f8ff;}#sk-container-id-2 input.sk-toggleable__control:checked~div.sk-toggleable__content {max-height: 200px;max-width: 100%;overflow: auto;}#sk-container-id-2 input.sk-toggleable__control:checked~label.sk-toggleable__label-arrow:before {content: \"▾\";}#sk-container-id-2 div.sk-estimator input.sk-toggleable__control:checked~label.sk-toggleable__label {background-color: #d4ebff;}#sk-container-id-2 div.sk-label input.sk-toggleable__control:checked~label.sk-toggleable__label {background-color: #d4ebff;}#sk-container-id-2 input.sk-hidden--visually {border: 0;clip: rect(1px 1px 1px 1px);clip: rect(1px, 1px, 1px, 1px);height: 1px;margin: -1px;overflow: hidden;padding: 0;position: absolute;width: 1px;}#sk-container-id-2 div.sk-estimator {font-family: monospace;background-color: #f0f8ff;border: 1px dotted black;border-radius: 0.25em;box-sizing: border-box;margin-bottom: 0.5em;}#sk-container-id-2 div.sk-estimator:hover {background-color: #d4ebff;}#sk-container-id-2 div.sk-parallel-item::after {content: \"\";width: 100%;border-bottom: 1px solid gray;flex-grow: 1;}#sk-container-id-2 div.sk-label:hover label.sk-toggleable__label {background-color: #d4ebff;}#sk-container-id-2 div.sk-serial::before {content: \"\";position: absolute;border-left: 1px solid gray;box-sizing: border-box;top: 0;bottom: 0;left: 50%;z-index: 0;}#sk-container-id-2 div.sk-serial {display: flex;flex-direction: column;align-items: center;background-color: white;padding-right: 0.2em;padding-left: 0.2em;position: relative;}#sk-container-id-2 div.sk-item {position: relative;z-index: 1;}#sk-container-id-2 div.sk-parallel {display: flex;align-items: stretch;justify-content: center;background-color: white;position: relative;}#sk-container-id-2 div.sk-item::before, #sk-container-id-2 div.sk-parallel-item::before {content: \"\";position: absolute;border-left: 1px solid gray;box-sizing: border-box;top: 0;bottom: 0;left: 50%;z-index: -1;}#sk-container-id-2 div.sk-parallel-item {display: flex;flex-direction: column;z-index: 1;position: relative;background-color: white;}#sk-container-id-2 div.sk-parallel-item:first-child::after {align-self: flex-end;width: 50%;}#sk-container-id-2 div.sk-parallel-item:last-child::after {align-self: flex-start;width: 50%;}#sk-container-id-2 div.sk-parallel-item:only-child::after {width: 0;}#sk-container-id-2 div.sk-dashed-wrapped {border: 1px dashed gray;margin: 0 0.4em 0.5em 0.4em;box-sizing: border-box;padding-bottom: 0.4em;background-color: white;}#sk-container-id-2 div.sk-label label {font-family: monospace;font-weight: bold;display: inline-block;line-height: 1.2em;}#sk-container-id-2 div.sk-label-container {text-align: center;}#sk-container-id-2 div.sk-container {/* jupyter's `normalize.less` sets `[hidden] { display: none; }` but bootstrap.min.css set `[hidden] { display: none !important; }` so we also need the `!important` here to be able to override the default hidden behavior on the sphinx rendered scikit-learn.org. See: https://github.com/scikit-learn/scikit-learn/issues/21755 */display: inline-block !important;position: relative;}#sk-container-id-2 div.sk-text-repr-fallback {display: none;}</style><div id=\"sk-container-id-2\" class=\"sk-top-container\"><div class=\"sk-text-repr-fallback\"><pre>GridSearchCV(cv=5, estimator=RandomForestClassifier(random_state=1107),\n",
                            "             n_jobs=-1,\n",
                            "             param_grid=[{&#x27;criterion&#x27;: [&#x27;gini&#x27;, &#x27;entropy&#x27;],\n",
                            "                          &#x27;max_depth&#x27;: [8, 12, 16],\n",
                            "                          &#x27;min_samples_split&#x27;: [12, 16, 20]}],\n",
                            "             verbose=2)</pre><b>In a Jupyter environment, please rerun this cell to show the HTML representation or trust the notebook. <br />On GitHub, the HTML representation is unable to render, please try loading this page with nbviewer.org.</b></div><div class=\"sk-container\" hidden><div class=\"sk-item sk-dashed-wrapped\"><div class=\"sk-label-container\"><div class=\"sk-label sk-toggleable\"><input class=\"sk-toggleable__control sk-hidden--visually\" id=\"sk-estimator-id-4\" type=\"checkbox\" ><label for=\"sk-estimator-id-4\" class=\"sk-toggleable__label sk-toggleable__label-arrow\">GridSearchCV</label><div class=\"sk-toggleable__content\"><pre>GridSearchCV(cv=5, estimator=RandomForestClassifier(random_state=1107),\n",
                            "             n_jobs=-1,\n",
                            "             param_grid=[{&#x27;criterion&#x27;: [&#x27;gini&#x27;, &#x27;entropy&#x27;],\n",
                            "                          &#x27;max_depth&#x27;: [8, 12, 16],\n",
                            "                          &#x27;min_samples_split&#x27;: [12, 16, 20]}],\n",
                            "             verbose=2)</pre></div></div></div><div class=\"sk-parallel\"><div class=\"sk-parallel-item\"><div class=\"sk-item\"><div class=\"sk-label-container\"><div class=\"sk-label sk-toggleable\"><input class=\"sk-toggleable__control sk-hidden--visually\" id=\"sk-estimator-id-5\" type=\"checkbox\" ><label for=\"sk-estimator-id-5\" class=\"sk-toggleable__label sk-toggleable__label-arrow\">estimator: RandomForestClassifier</label><div class=\"sk-toggleable__content\"><pre>RandomForestClassifier(random_state=1107)</pre></div></div></div><div class=\"sk-serial\"><div class=\"sk-item\"><div class=\"sk-estimator sk-toggleable\"><input class=\"sk-toggleable__control sk-hidden--visually\" id=\"sk-estimator-id-6\" type=\"checkbox\" ><label for=\"sk-estimator-id-6\" class=\"sk-toggleable__label sk-toggleable__label-arrow\">RandomForestClassifier</label><div class=\"sk-toggleable__content\"><pre>RandomForestClassifier(random_state=1107)</pre></div></div></div></div></div></div></div></div></div></div>"
                        ],
                        "text/plain": [
                            "GridSearchCV(cv=5, estimator=RandomForestClassifier(random_state=1107),\n",
                            "             n_jobs=-1,\n",
                            "             param_grid=[{'criterion': ['gini', 'entropy'],\n",
                            "                          'max_depth': [8, 12, 16],\n",
                            "                          'min_samples_split': [12, 16, 20]}],\n",
                            "             verbose=2)"
                        ]
                    },
                    "execution_count": 68,
                    "metadata": {},
                    "output_type": "execute_result"
                }
            ],
            "source": [
                "rfc2=RandomForestClassifier(random_state=1107)\n",
                "\n",
                "grid=GridSearchCV(estimator=rfc2,param_grid=param_grid, cv=5, n_jobs=-1,verbose=2)\n",
                "\n",
                "grid.fit(X_train,y_train)"
            ]
        },
        {
            "cell_type": "code",
            "execution_count": 69,
            "metadata": {},
            "outputs": [
                {
                    "name": "stdout",
                    "output_type": "stream",
                    "text": [
                        "Best parameters: {'criterion': 'gini', 'max_depth': 12, 'min_samples_split': 20}\n"
                    ]
                }
            ],
            "source": [
                "print('Best parameters:', grid.best_params_) "
            ]
        },
        {
            "cell_type": "code",
            "execution_count": 72,
            "metadata": {},
            "outputs": [],
            "source": [
                "# to see the results\n",
                "grid.best_estimator_\n",
                "\n",
                "# save it into model_cv\n",
                "model_cv=grid.best_estimator_"
            ]
        },
        {
            "cell_type": "code",
            "execution_count": 73,
            "metadata": {},
            "outputs": [
                {
                    "name": "stdout",
                    "output_type": "stream",
                    "text": [
                        "Accuracy of random foresct selected by CV in test set: 0.8385650224215246\n"
                    ]
                }
            ],
            "source": [
                "y_pred_cv = model_cv.predict(X_test)\n",
                "\n",
                "print('Accuracy of random forest selected by CV in test set (grid search):',np.mean(y_test==y_pred_cv))"
            ]
        },
        {
            "cell_type": "code",
            "execution_count": 74,
            "metadata": {},
            "outputs": [
                {
                    "name": "stdout",
                    "output_type": "stream",
                    "text": [
                        "Accuracy of random foresct selected by CV in test set: 0.8385650224215246\n"
                    ]
                }
            ],
            "source": [
                "# Another way to calculate the accuracy (more direct)\n",
                "\n",
                "print('Accuracy of random forest selected by CV in test set (grid search):',grid.score(X_test, y_test))"
            ]
        },
        {
            "cell_type": "code",
            "execution_count": 75,
            "metadata": {},
            "outputs": [
                {
                    "data": {
                        "image/png": "[encoded data removed]",
                        "text/plain": [
                            "<Figure size 432x288 with 2 Axes>"
                        ]
                    },
                    "metadata": {
                        "needs_background": "light"
                    },
                    "output_type": "display_data"
                }
            ],
            "source": [
                "cm = confusion_matrix(y_test, y_pred_cv, labels=grid.classes_)\n",
                "disp = ConfusionMatrixDisplay(confusion_matrix=cm,\n",
                "display_labels=grid.classes_)\n",
                "disp.plot()\n",
                "\n",
                "plt.show()"
            ]
        },
        {
            "cell_type": "code",
            "execution_count": 76,
            "metadata": {},
            "outputs": [
                {
                    "name": "stdout",
                    "output_type": "stream",
                    "text": [
                        "              precision    recall  f1-score   support\n",
                        "\n",
                        "           0       0.84      0.92      0.88       141\n",
                        "           1       0.84      0.70      0.76        82\n",
                        "\n",
                        "    accuracy                           0.84       223\n",
                        "   macro avg       0.84      0.81      0.82       223\n",
                        "weighted avg       0.84      0.84      0.83       223\n",
                        "\n"
                    ]
                }
            ],
            "source": [
                "print(classification_report(y_test,y_pred_cv))"
            ]
        },
        {
            "cell_type": "markdown",
            "metadata": {},
            "source": [
                "Feature importance"
            ]
        },
        {
            "cell_type": "code",
            "execution_count": 89,
            "metadata": {},
            "outputs": [
                {
                    "name": "stdout",
                    "output_type": "stream",
                    "text": [
                        "Feature: 0, Score: 0.13994\n",
                        "Feature: 1, Score: 0.41014\n",
                        "Feature: 2, Score: 0.15364\n",
                        "Feature: 3, Score: 0.04853\n",
                        "Feature: 4, Score: 0.03233\n",
                        "Feature: 5, Score: 0.17961\n",
                        "Feature: 6, Score: 0.03581\n"
                    ]
                },
                {
                    "name": "stderr",
                    "output_type": "stream",
                    "text": [
                        "/home/gitpod/.pyenv/versions/3.8.13/lib/python3.8/site-packages/seaborn/_decorators.py:36: FutureWarning: Pass the following variables as keyword args: x, y. From version 0.12, the only valid positional argument will be `data`, and passing other arguments without an explicit keyword will result in an error or misinterpretation.\n",
                        "  warnings.warn(\n"
                    ]
                },
                {
                    "data": {
                        "image/png": "[encoded data removed]",
                        "text/plain": [
                            "<Figure size 2160x360 with 1 Axes>"
                        ]
                    },
                    "metadata": {
                        "needs_background": "light"
                    },
                    "output_type": "display_data"
                }
            ],
            "source": [
                "importance = model_cv.feature_importances_\n",
                "\n",
                "for i,v in enumerate(importance):\n",
                "\tprint('Feature: %0d, Score: %.5f' % (i,v))\n",
                "\n",
                "# graficamos la importancia de las variables\n",
                "\n",
                "plt.figure(figsize=(30,5))\n",
                "columns = X.columns\n",
                "sns.barplot(columns, importance)\n",
                "plt.title('Feature importance')\n",
                "plt.show()"
            ]
        },
        {
            "cell_type": "markdown",
            "metadata": {},
            "source": [
                "2.2 Randomized search CV\n",
                "\n",
                "In this case, not all parameters values are tried out. This allows us to include more hyperparameters in the grid"
            ]
        },
        {
            "cell_type": "code",
            "execution_count": 91,
            "metadata": {},
            "outputs": [
                {
                    "name": "stdout",
                    "output_type": "stream",
                    "text": [
                        "{'n_estimators': [200, 400, 600, 800, 1000, 1200, 1400, 1600, 1800, 2000], 'max_depth': [10, 20, 30, 40, 50, 60, 70, 80, 90, 100, 110, None], 'min_samples_split': [2, 5, 10], 'min_samples_leaf': [1, 2, 4], 'bootstrap': [True, False], 'criterion': ['gini', 'entropy']}\n"
                    ]
                }
            ],
            "source": [
                "# Number of trees in random forest\n",
                "n_estimators = [int(x) for x in np.linspace(start = 200, stop = 2000, num = 10)]\n",
                "# Number of features to consider at every split\n",
                "max_features = ['auto', 'sqrt']\n",
                "# Maximum number of levels in tree\n",
                "max_depth = [int(x) for x in np.linspace(10, 110, num = 11)]\n",
                "max_depth.append(None)\n",
                "# Minimum number of samples required to split a node\n",
                "min_samples_split = [2, 5, 10]\n",
                "# Minimum number of samples required at each leaf node\n",
                "min_samples_leaf = [1, 2, 4]\n",
                "# Method of selecting samples for training each tree\n",
                "bootstrap = [True, False]\n",
                "#Criterio\n",
                "criterion=['gini','entropy']\n",
                "\n",
                "# Create the random grid\n",
                "random_grid = {'n_estimators': n_estimators,\n",
                "#'max_features': max_features, # Son muy pocas variables por lo cual no vale la pena aplicarlo\n",
                "'max_depth': max_depth,\n",
                "'min_samples_split': min_samples_split,\n",
                "'min_samples_leaf': min_samples_leaf,\n",
                "'bootstrap': bootstrap,\n",
                "'criterion':criterion}\n",
                "\n",
                "print(random_grid)"
            ]
        },
        {
            "cell_type": "code",
            "execution_count": 95,
            "metadata": {},
            "outputs": [],
            "source": [
                "rfc3=RandomForestClassifier(random_state=1107)\n",
                "\n",
                "grid_random=RandomizedSearchCV(estimator=rfc3,n_iter=100,cv=5,random_state=1107,param_distributions=random_grid)\n",
                "# n_iter: number of parameter settings that are sampled"
            ]
        },
        {
            "cell_type": "code",
            "execution_count": 96,
            "metadata": {},
            "outputs": [
                {
                    "data": {
                        "text/html": [
                            "<style>#sk-container-id-4 {color: black;background-color: white;}#sk-container-id-4 pre{padding: 0;}#sk-container-id-4 div.sk-toggleable {background-color: white;}#sk-container-id-4 label.sk-toggleable__label {cursor: pointer;display: block;width: 100%;margin-bottom: 0;padding: 0.3em;box-sizing: border-box;text-align: center;}#sk-container-id-4 label.sk-toggleable__label-arrow:before {content: \"▸\";float: left;margin-right: 0.25em;color: #696969;}#sk-container-id-4 label.sk-toggleable__label-arrow:hover:before {color: black;}#sk-container-id-4 div.sk-estimator:hover label.sk-toggleable__label-arrow:before {color: black;}#sk-container-id-4 div.sk-toggleable__content {max-height: 0;max-width: 0;overflow: hidden;text-align: left;background-color: #f0f8ff;}#sk-container-id-4 div.sk-toggleable__content pre {margin: 0.2em;color: black;border-radius: 0.25em;background-color: #f0f8ff;}#sk-container-id-4 input.sk-toggleable__control:checked~div.sk-toggleable__content {max-height: 200px;max-width: 100%;overflow: auto;}#sk-container-id-4 input.sk-toggleable__control:checked~label.sk-toggleable__label-arrow:before {content: \"▾\";}#sk-container-id-4 div.sk-estimator input.sk-toggleable__control:checked~label.sk-toggleable__label {background-color: #d4ebff;}#sk-container-id-4 div.sk-label input.sk-toggleable__control:checked~label.sk-toggleable__label {background-color: #d4ebff;}#sk-container-id-4 input.sk-hidden--visually {border: 0;clip: rect(1px 1px 1px 1px);clip: rect(1px, 1px, 1px, 1px);height: 1px;margin: -1px;overflow: hidden;padding: 0;position: absolute;width: 1px;}#sk-container-id-4 div.sk-estimator {font-family: monospace;background-color: #f0f8ff;border: 1px dotted black;border-radius: 0.25em;box-sizing: border-box;margin-bottom: 0.5em;}#sk-container-id-4 div.sk-estimator:hover {background-color: #d4ebff;}#sk-container-id-4 div.sk-parallel-item::after {content: \"\";width: 100%;border-bottom: 1px solid gray;flex-grow: 1;}#sk-container-id-4 div.sk-label:hover label.sk-toggleable__label {background-color: #d4ebff;}#sk-container-id-4 div.sk-serial::before {content: \"\";position: absolute;border-left: 1px solid gray;box-sizing: border-box;top: 0;bottom: 0;left: 50%;z-index: 0;}#sk-container-id-4 div.sk-serial {display: flex;flex-direction: column;align-items: center;background-color: white;padding-right: 0.2em;padding-left: 0.2em;position: relative;}#sk-container-id-4 div.sk-item {position: relative;z-index: 1;}#sk-container-id-4 div.sk-parallel {display: flex;align-items: stretch;justify-content: center;background-color: white;position: relative;}#sk-container-id-4 div.sk-item::before, #sk-container-id-4 div.sk-parallel-item::before {content: \"\";position: absolute;border-left: 1px solid gray;box-sizing: border-box;top: 0;bottom: 0;left: 50%;z-index: -1;}#sk-container-id-4 div.sk-parallel-item {display: flex;flex-direction: column;z-index: 1;position: relative;background-color: white;}#sk-container-id-4 div.sk-parallel-item:first-child::after {align-self: flex-end;width: 50%;}#sk-container-id-4 div.sk-parallel-item:last-child::after {align-self: flex-start;width: 50%;}#sk-container-id-4 div.sk-parallel-item:only-child::after {width: 0;}#sk-container-id-4 div.sk-dashed-wrapped {border: 1px dashed gray;margin: 0 0.4em 0.5em 0.4em;box-sizing: border-box;padding-bottom: 0.4em;background-color: white;}#sk-container-id-4 div.sk-label label {font-family: monospace;font-weight: bold;display: inline-block;line-height: 1.2em;}#sk-container-id-4 div.sk-label-container {text-align: center;}#sk-container-id-4 div.sk-container {/* jupyter's `normalize.less` sets `[hidden] { display: none; }` but bootstrap.min.css set `[hidden] { display: none !important; }` so we also need the `!important` here to be able to override the default hidden behavior on the sphinx rendered scikit-learn.org. See: https://github.com/scikit-learn/scikit-learn/issues/21755 */display: inline-block !important;position: relative;}#sk-container-id-4 div.sk-text-repr-fallback {display: none;}</style><div id=\"sk-container-id-4\" class=\"sk-top-container\"><div class=\"sk-text-repr-fallback\"><pre>RandomizedSearchCV(cv=5, estimator=RandomForestClassifier(random_state=1107),\n",
                            "                   n_iter=100,\n",
                            "                   param_distributions={&#x27;bootstrap&#x27;: [True, False],\n",
                            "                                        &#x27;criterion&#x27;: [&#x27;gini&#x27;, &#x27;entropy&#x27;],\n",
                            "                                        &#x27;max_depth&#x27;: [10, 20, 30, 40, 50, 60,\n",
                            "                                                      70, 80, 90, 100, 110,\n",
                            "                                                      None],\n",
                            "                                        &#x27;min_samples_leaf&#x27;: [1, 2, 4],\n",
                            "                                        &#x27;min_samples_split&#x27;: [2, 5, 10],\n",
                            "                                        &#x27;n_estimators&#x27;: [200, 400, 600, 800,\n",
                            "                                                         1000, 1200, 1400, 1600,\n",
                            "                                                         1800, 2000]},\n",
                            "                   random_state=1107)</pre><b>In a Jupyter environment, please rerun this cell to show the HTML representation or trust the notebook. <br />On GitHub, the HTML representation is unable to render, please try loading this page with nbviewer.org.</b></div><div class=\"sk-container\" hidden><div class=\"sk-item sk-dashed-wrapped\"><div class=\"sk-label-container\"><div class=\"sk-label sk-toggleable\"><input class=\"sk-toggleable__control sk-hidden--visually\" id=\"sk-estimator-id-8\" type=\"checkbox\" ><label for=\"sk-estimator-id-8\" class=\"sk-toggleable__label sk-toggleable__label-arrow\">RandomizedSearchCV</label><div class=\"sk-toggleable__content\"><pre>RandomizedSearchCV(cv=5, estimator=RandomForestClassifier(random_state=1107),\n",
                            "                   n_iter=100,\n",
                            "                   param_distributions={&#x27;bootstrap&#x27;: [True, False],\n",
                            "                                        &#x27;criterion&#x27;: [&#x27;gini&#x27;, &#x27;entropy&#x27;],\n",
                            "                                        &#x27;max_depth&#x27;: [10, 20, 30, 40, 50, 60,\n",
                            "                                                      70, 80, 90, 100, 110,\n",
                            "                                                      None],\n",
                            "                                        &#x27;min_samples_leaf&#x27;: [1, 2, 4],\n",
                            "                                        &#x27;min_samples_split&#x27;: [2, 5, 10],\n",
                            "                                        &#x27;n_estimators&#x27;: [200, 400, 600, 800,\n",
                            "                                                         1000, 1200, 1400, 1600,\n",
                            "                                                         1800, 2000]},\n",
                            "                   random_state=1107)</pre></div></div></div><div class=\"sk-parallel\"><div class=\"sk-parallel-item\"><div class=\"sk-item\"><div class=\"sk-label-container\"><div class=\"sk-label sk-toggleable\"><input class=\"sk-toggleable__control sk-hidden--visually\" id=\"sk-estimator-id-9\" type=\"checkbox\" ><label for=\"sk-estimator-id-9\" class=\"sk-toggleable__label sk-toggleable__label-arrow\">estimator: RandomForestClassifier</label><div class=\"sk-toggleable__content\"><pre>RandomForestClassifier(random_state=1107)</pre></div></div></div><div class=\"sk-serial\"><div class=\"sk-item\"><div class=\"sk-estimator sk-toggleable\"><input class=\"sk-toggleable__control sk-hidden--visually\" id=\"sk-estimator-id-10\" type=\"checkbox\" ><label for=\"sk-estimator-id-10\" class=\"sk-toggleable__label sk-toggleable__label-arrow\">RandomForestClassifier</label><div class=\"sk-toggleable__content\"><pre>RandomForestClassifier(random_state=1107)</pre></div></div></div></div></div></div></div></div></div></div>"
                        ],
                        "text/plain": [
                            "RandomizedSearchCV(cv=5, estimator=RandomForestClassifier(random_state=1107),\n",
                            "                   n_iter=100,\n",
                            "                   param_distributions={'bootstrap': [True, False],\n",
                            "                                        'criterion': ['gini', 'entropy'],\n",
                            "                                        'max_depth': [10, 20, 30, 40, 50, 60,\n",
                            "                                                      70, 80, 90, 100, 110,\n",
                            "                                                      None],\n",
                            "                                        'min_samples_leaf': [1, 2, 4],\n",
                            "                                        'min_samples_split': [2, 5, 10],\n",
                            "                                        'n_estimators': [200, 400, 600, 800,\n",
                            "                                                         1000, 1200, 1400, 1600,\n",
                            "                                                         1800, 2000]},\n",
                            "                   random_state=1107)"
                        ]
                    },
                    "execution_count": 96,
                    "metadata": {},
                    "output_type": "execute_result"
                }
            ],
            "source": [
                "grid_random.fit(X_train,y_train)"
            ]
        },
        {
            "cell_type": "code",
            "execution_count": 97,
            "metadata": {},
            "outputs": [
                {
                    "name": "stdout",
                    "output_type": "stream",
                    "text": [
                        "Best parameters: {'n_estimators': 2000, 'min_samples_split': 5, 'min_samples_leaf': 2, 'max_depth': 40, 'criterion': 'gini', 'bootstrap': True}\n"
                    ]
                }
            ],
            "source": [
                "print('Best parameters:', grid_random.best_params_) "
            ]
        },
        {
            "cell_type": "code",
            "execution_count": 98,
            "metadata": {},
            "outputs": [
                {
                    "name": "stdout",
                    "output_type": "stream",
                    "text": [
                        "Best model: RandomForestClassifier(max_depth=40, min_samples_leaf=2, min_samples_split=5,\n",
                        "                       n_estimators=2000, random_state=1107)\n"
                    ]
                }
            ],
            "source": [
                "print('Best model:', grid_random.best_estimator_) "
            ]
        },
        {
            "cell_type": "code",
            "execution_count": 99,
            "metadata": {},
            "outputs": [],
            "source": [
                "# Save best model\n",
                "model_cv_2 = grid_random.best_estimator_"
            ]
        },
        {
            "cell_type": "code",
            "execution_count": 100,
            "metadata": {},
            "outputs": [
                {
                    "name": "stdout",
                    "output_type": "stream",
                    "text": [
                        "Accuracy of random forest selected by CV in test set (random grid search): 0.8430493273542601\n"
                    ]
                }
            ],
            "source": [
                "# Accuracy in test data - option 1\n",
                "y_pred_cv_2 = model_cv_2.predict(X_test)\n",
                "\n",
                "print('Accuracy of random forest selected by CV in test set (random grid search):',np.mean(y_test==y_pred_cv_2))"
            ]
        },
        {
            "cell_type": "code",
            "execution_count": 101,
            "metadata": {},
            "outputs": [
                {
                    "name": "stdout",
                    "output_type": "stream",
                    "text": [
                        "Accuracy of random forest selected by CV in test set (random grid search): 0.8430493273542601\n"
                    ]
                }
            ],
            "source": [
                "# Accuracy in test data - option 2\n",
                "\n",
                "print('Accuracy of random forest selected by CV in test set (random grid search):',grid_random.score(X_test, y_test))"
            ]
        },
        {
            "cell_type": "code",
            "execution_count": 103,
            "metadata": {},
            "outputs": [
                {
                    "data": {
                        "image/png": "[encoded data removed]",
                        "text/plain": [
                            "<Figure size 432x288 with 2 Axes>"
                        ]
                    },
                    "metadata": {
                        "needs_background": "light"
                    },
                    "output_type": "display_data"
                }
            ],
            "source": [
                "cm = confusion_matrix(y_test, y_pred_cv_2, labels=grid_random.classes_)\n",
                "disp = ConfusionMatrixDisplay(confusion_matrix=cm,\n",
                "display_labels=grid_random.classes_)\n",
                "disp.plot()\n",
                "\n",
                "plt.show()"
            ]
        },
        {
            "cell_type": "code",
            "execution_count": 104,
            "metadata": {},
            "outputs": [
                {
                    "name": "stdout",
                    "output_type": "stream",
                    "text": [
                        "              precision    recall  f1-score   support\n",
                        "\n",
                        "           0       0.84      0.92      0.88       141\n",
                        "           1       0.84      0.71      0.77        82\n",
                        "\n",
                        "    accuracy                           0.84       223\n",
                        "   macro avg       0.84      0.81      0.82       223\n",
                        "weighted avg       0.84      0.84      0.84       223\n",
                        "\n"
                    ]
                }
            ],
            "source": [
                "print(classification_report(y_test,y_pred_cv_2))"
            ]
        },
        {
            "cell_type": "markdown",
            "metadata": {},
            "source": [
                "Feature importance"
            ]
        },
        {
            "cell_type": "code",
            "execution_count": 102,
            "metadata": {},
            "outputs": [
                {
                    "name": "stdout",
                    "output_type": "stream",
                    "text": [
                        "Feature: 0, Score: 0.10961\n",
                        "Feature: 1, Score: 0.32921\n",
                        "Feature: 2, Score: 0.20026\n",
                        "Feature: 3, Score: 0.05201\n",
                        "Feature: 4, Score: 0.03529\n",
                        "Feature: 5, Score: 0.23613\n",
                        "Feature: 6, Score: 0.03749\n"
                    ]
                },
                {
                    "name": "stderr",
                    "output_type": "stream",
                    "text": [
                        "/home/gitpod/.pyenv/versions/3.8.13/lib/python3.8/site-packages/seaborn/_decorators.py:36: FutureWarning: Pass the following variables as keyword args: x, y. From version 0.12, the only valid positional argument will be `data`, and passing other arguments without an explicit keyword will result in an error or misinterpretation.\n",
                        "  warnings.warn(\n"
                    ]
                },
                {
                    "data": {
                        "image/png": "[encoded data removed]",
                        "text/plain": [
                            "<Figure size 2160x360 with 1 Axes>"
                        ]
                    },
                    "metadata": {
                        "needs_background": "light"
                    },
                    "output_type": "display_data"
                }
            ],
            "source": [
                "importance = model_cv_2.feature_importances_\n",
                "\n",
                "for i,v in enumerate(importance):\n",
                "\tprint('Feature: %0d, Score: %.5f' % (i,v))\n",
                "\n",
                "# graficamos la importancia de las variables\n",
                "\n",
                "plt.figure(figsize=(30,5))\n",
                "columns = X.columns\n",
                "sns.barplot(columns, importance)\n",
                "plt.title('Feature importance')\n",
                "plt.show()"
            ]
        },
        {
            "cell_type": "markdown",
            "metadata": {},
            "source": [
                "- In both forests selected by cross-validation (one with grid search and the other one with random grid search) the most important features are: sex, age, fare and pclass\n",
                "- The performance of the model in the test dataset did not improve sustantially between the random forest with hyperparameters chosen by grid search and the random forest with hyperparameters chosen by random grid search (and this one took more time because we included more hyperparameters in the search)"
            ]
        },
        {
            "cell_type": "code",
            "execution_count": 107,
            "metadata": {},
            "outputs": [],
            "source": [
                "# Save best model\n",
                "\n",
                "filename = '../models/final_model.sav'\n",
                "pickle.dump(model_cv_2, open(filename, 'wb'))"
            ]
        }
    ],
    "metadata": {
        "kernelspec": {
            "display_name": "Python 3.8.13 64-bit ('3.8.13')",
            "language": "python",
            "name": "python3"
        },
        "language_info": {
            "codemirror_mode": {
                "name": "ipython",
                "version": 3
            },
            "file_extension": ".py",
            "mimetype": "text/x-python",
            "name": "python",
            "nbconvert_exporter": "python",
            "pygments_lexer": "ipython3",
            "version": "3.8.13"
        },
        "orig_nbformat": 4,
        "vscode": {
            "interpreter": {
                "hash": "110cc1dee26208153f2972f08a2ad52b6a56238dc66d48e87fb757ef2996db56"
            }
        }
    },
    "nbformat": 4,
    "nbformat_minor": 2
}
